{
  "nbformat": 4,
  "nbformat_minor": 0,
  "metadata": {
    "colab": {
      "provenance": []
    },
    "kernelspec": {
      "name": "python3",
      "display_name": "Python 3 (ipykernel)",
      "language": "python"
    },
    "language_info": {
      "name": "python"
    }
  },
  "cells": [
    {
      "cell_type": "markdown",
      "source": [
        "**Student Name:Sugarika Maharjan**\n",
        "\n",
        "**Student ID:2408609**\n"
      ],
      "metadata": {
        "id": "ajLTnBdP_foe"
      }
    },
    {
      "cell_type": "markdown",
      "source": [
        "# Imported neccessary libarires"
      ],
      "metadata": {
        "id": "BA8Gw9s0_weW"
      }
    },
    {
      "cell_type": "code",
      "source": [
        "import pandas as pd\n",
        "import numpy as np\n",
        "import matplotlib.pyplot as plt\n",
        "import seaborn as sns\n",
        "from sklearn.model_selection import train_test_split, GridSearchCV\n",
        "from sklearn.preprocessing import LabelEncoder, StandardScaler\n",
        "from sklearn.tree import DecisionTreeClassifier\n",
        "from sklearn.neighbors import KNeighborsClassifier\n",
        "from sklearn.metrics import accuracy_score, confusion_matrix, classification_report\n",
        "from sklearn.metrics import mean_squared_error, r2_score\n",
        "from sklearn.tree import DecisionTreeRegressor\n",
        "from sklearn.ensemble import RandomForestRegressor\n",
        "from sklearn.feature_selection import SelectKBest, f_regression\n",
        "from sklearn.ensemble import RandomForestClassifier"
      ],
      "metadata": {
        "id": "GjN1_MZ4JL8W",
        "ExecuteTime": {
          "end_time": "2025-02-11T05:02:59.237217Z",
          "start_time": "2025-02-11T05:02:59.231125Z"
        }
      },
      "outputs": [],
      "execution_count": 61
    },
    {
      "cell_type": "markdown",
      "source": [
        "**Load the Dataset**"
      ],
      "metadata": {
        "id": "cTIoNylO7Dm_"
      }
    },
    {
      "cell_type": "code",
      "source": [
        "df=pd.read_csv('/content/drive/MyDrive/Datasets/updated_pollution_dataset.csv')"
      ],
      "metadata": {
        "id": "ZwwIlCV4JWoP",
        "ExecuteTime": {
          "end_time": "2025-02-11T05:02:59.273859Z",
          "start_time": "2025-02-11T05:02:59.256700Z"
        }
      },
      "outputs": [],
      "execution_count": 62
    },
    {
      "cell_type": "code",
      "source": [
        "df.head()"
      ],
      "metadata": {
        "colab": {
          "base_uri": "https://localhost:8080/",
          "height": 206
        },
        "id": "Q6ch4kQ7Jssv",
        "outputId": "e24d4208-3934-405f-c0c8-bfd8ef577934",
        "ExecuteTime": {
          "end_time": "2025-02-11T05:02:59.439330Z",
          "start_time": "2025-02-11T05:02:59.417013Z"
        }
      },
      "outputs": [
        {
          "output_type": "execute_result",
          "data": {
            "text/plain": [
              "   Temperature  Humidity  PM2.5  PM10   NO2   SO2    CO  \\\n",
              "0         29.8      59.1    5.2  17.9  18.9   9.2  1.72   \n",
              "1         28.3      75.6    2.3  12.2  30.8   9.7  1.64   \n",
              "2         23.1      74.7   26.7  33.8  24.4  12.6  1.63   \n",
              "3         27.1      39.1    6.1   6.3  13.5   5.3  1.15   \n",
              "4         26.5      70.7    6.9  16.0  21.9   5.6  1.01   \n",
              "\n",
              "   Proximity_to_Industrial_Areas  Population_Density Air Quality  \n",
              "0                            6.3                 319    Moderate  \n",
              "1                            6.0                 611    Moderate  \n",
              "2                            5.2                 619    Moderate  \n",
              "3                           11.1                 551        Good  \n",
              "4                           12.7                 303        Good  "
            ],
            "text/html": [
              "\n",
              "  <div id=\"df-f0dba7c2-45d6-4abb-8645-608912f21cb4\" class=\"colab-df-container\">\n",
              "    <div>\n",
              "<style scoped>\n",
              "    .dataframe tbody tr th:only-of-type {\n",
              "        vertical-align: middle;\n",
              "    }\n",
              "\n",
              "    .dataframe tbody tr th {\n",
              "        vertical-align: top;\n",
              "    }\n",
              "\n",
              "    .dataframe thead th {\n",
              "        text-align: right;\n",
              "    }\n",
              "</style>\n",
              "<table border=\"1\" class=\"dataframe\">\n",
              "  <thead>\n",
              "    <tr style=\"text-align: right;\">\n",
              "      <th></th>\n",
              "      <th>Temperature</th>\n",
              "      <th>Humidity</th>\n",
              "      <th>PM2.5</th>\n",
              "      <th>PM10</th>\n",
              "      <th>NO2</th>\n",
              "      <th>SO2</th>\n",
              "      <th>CO</th>\n",
              "      <th>Proximity_to_Industrial_Areas</th>\n",
              "      <th>Population_Density</th>\n",
              "      <th>Air Quality</th>\n",
              "    </tr>\n",
              "  </thead>\n",
              "  <tbody>\n",
              "    <tr>\n",
              "      <th>0</th>\n",
              "      <td>29.8</td>\n",
              "      <td>59.1</td>\n",
              "      <td>5.2</td>\n",
              "      <td>17.9</td>\n",
              "      <td>18.9</td>\n",
              "      <td>9.2</td>\n",
              "      <td>1.72</td>\n",
              "      <td>6.3</td>\n",
              "      <td>319</td>\n",
              "      <td>Moderate</td>\n",
              "    </tr>\n",
              "    <tr>\n",
              "      <th>1</th>\n",
              "      <td>28.3</td>\n",
              "      <td>75.6</td>\n",
              "      <td>2.3</td>\n",
              "      <td>12.2</td>\n",
              "      <td>30.8</td>\n",
              "      <td>9.7</td>\n",
              "      <td>1.64</td>\n",
              "      <td>6.0</td>\n",
              "      <td>611</td>\n",
              "      <td>Moderate</td>\n",
              "    </tr>\n",
              "    <tr>\n",
              "      <th>2</th>\n",
              "      <td>23.1</td>\n",
              "      <td>74.7</td>\n",
              "      <td>26.7</td>\n",
              "      <td>33.8</td>\n",
              "      <td>24.4</td>\n",
              "      <td>12.6</td>\n",
              "      <td>1.63</td>\n",
              "      <td>5.2</td>\n",
              "      <td>619</td>\n",
              "      <td>Moderate</td>\n",
              "    </tr>\n",
              "    <tr>\n",
              "      <th>3</th>\n",
              "      <td>27.1</td>\n",
              "      <td>39.1</td>\n",
              "      <td>6.1</td>\n",
              "      <td>6.3</td>\n",
              "      <td>13.5</td>\n",
              "      <td>5.3</td>\n",
              "      <td>1.15</td>\n",
              "      <td>11.1</td>\n",
              "      <td>551</td>\n",
              "      <td>Good</td>\n",
              "    </tr>\n",
              "    <tr>\n",
              "      <th>4</th>\n",
              "      <td>26.5</td>\n",
              "      <td>70.7</td>\n",
              "      <td>6.9</td>\n",
              "      <td>16.0</td>\n",
              "      <td>21.9</td>\n",
              "      <td>5.6</td>\n",
              "      <td>1.01</td>\n",
              "      <td>12.7</td>\n",
              "      <td>303</td>\n",
              "      <td>Good</td>\n",
              "    </tr>\n",
              "  </tbody>\n",
              "</table>\n",
              "</div>\n",
              "    <div class=\"colab-df-buttons\">\n",
              "\n",
              "  <div class=\"colab-df-container\">\n",
              "    <button class=\"colab-df-convert\" onclick=\"convertToInteractive('df-f0dba7c2-45d6-4abb-8645-608912f21cb4')\"\n",
              "            title=\"Convert this dataframe to an interactive table.\"\n",
              "            style=\"display:none;\">\n",
              "\n",
              "  <svg xmlns=\"http://www.w3.org/2000/svg\" height=\"24px\" viewBox=\"0 -960 960 960\">\n",
              "    <path d=\"M120-120v-720h720v720H120Zm60-500h600v-160H180v160Zm220 220h160v-160H400v160Zm0 220h160v-160H400v160ZM180-400h160v-160H180v160Zm440 0h160v-160H620v160ZM180-180h160v-160H180v160Zm440 0h160v-160H620v160Z\"/>\n",
              "  </svg>\n",
              "    </button>\n",
              "\n",
              "  <style>\n",
              "    .colab-df-container {\n",
              "      display:flex;\n",
              "      gap: 12px;\n",
              "    }\n",
              "\n",
              "    .colab-df-convert {\n",
              "      background-color: #E8F0FE;\n",
              "      border: none;\n",
              "      border-radius: 50%;\n",
              "      cursor: pointer;\n",
              "      display: none;\n",
              "      fill: #1967D2;\n",
              "      height: 32px;\n",
              "      padding: 0 0 0 0;\n",
              "      width: 32px;\n",
              "    }\n",
              "\n",
              "    .colab-df-convert:hover {\n",
              "      background-color: #E2EBFA;\n",
              "      box-shadow: 0px 1px 2px rgba(60, 64, 67, 0.3), 0px 1px 3px 1px rgba(60, 64, 67, 0.15);\n",
              "      fill: #174EA6;\n",
              "    }\n",
              "\n",
              "    .colab-df-buttons div {\n",
              "      margin-bottom: 4px;\n",
              "    }\n",
              "\n",
              "    [theme=dark] .colab-df-convert {\n",
              "      background-color: #3B4455;\n",
              "      fill: #D2E3FC;\n",
              "    }\n",
              "\n",
              "    [theme=dark] .colab-df-convert:hover {\n",
              "      background-color: #434B5C;\n",
              "      box-shadow: 0px 1px 3px 1px rgba(0, 0, 0, 0.15);\n",
              "      filter: drop-shadow(0px 1px 2px rgba(0, 0, 0, 0.3));\n",
              "      fill: #FFFFFF;\n",
              "    }\n",
              "  </style>\n",
              "\n",
              "    <script>\n",
              "      const buttonEl =\n",
              "        document.querySelector('#df-f0dba7c2-45d6-4abb-8645-608912f21cb4 button.colab-df-convert');\n",
              "      buttonEl.style.display =\n",
              "        google.colab.kernel.accessAllowed ? 'block' : 'none';\n",
              "\n",
              "      async function convertToInteractive(key) {\n",
              "        const element = document.querySelector('#df-f0dba7c2-45d6-4abb-8645-608912f21cb4');\n",
              "        const dataTable =\n",
              "          await google.colab.kernel.invokeFunction('convertToInteractive',\n",
              "                                                    [key], {});\n",
              "        if (!dataTable) return;\n",
              "\n",
              "        const docLinkHtml = 'Like what you see? Visit the ' +\n",
              "          '<a target=\"_blank\" href=https://colab.research.google.com/notebooks/data_table.ipynb>data table notebook</a>'\n",
              "          + ' to learn more about interactive tables.';\n",
              "        element.innerHTML = '';\n",
              "        dataTable['output_type'] = 'display_data';\n",
              "        await google.colab.output.renderOutput(dataTable, element);\n",
              "        const docLink = document.createElement('div');\n",
              "        docLink.innerHTML = docLinkHtml;\n",
              "        element.appendChild(docLink);\n",
              "      }\n",
              "    </script>\n",
              "  </div>\n",
              "\n",
              "\n",
              "<div id=\"df-c2c6ffa1-9877-4acc-b7db-2c3f76598c8c\">\n",
              "  <button class=\"colab-df-quickchart\" onclick=\"quickchart('df-c2c6ffa1-9877-4acc-b7db-2c3f76598c8c')\"\n",
              "            title=\"Suggest charts\"\n",
              "            style=\"display:none;\">\n",
              "\n",
              "<svg xmlns=\"http://www.w3.org/2000/svg\" height=\"24px\"viewBox=\"0 0 24 24\"\n",
              "     width=\"24px\">\n",
              "    <g>\n",
              "        <path d=\"M19 3H5c-1.1 0-2 .9-2 2v14c0 1.1.9 2 2 2h14c1.1 0 2-.9 2-2V5c0-1.1-.9-2-2-2zM9 17H7v-7h2v7zm4 0h-2V7h2v10zm4 0h-2v-4h2v4z\"/>\n",
              "    </g>\n",
              "</svg>\n",
              "  </button>\n",
              "\n",
              "<style>\n",
              "  .colab-df-quickchart {\n",
              "      --bg-color: #E8F0FE;\n",
              "      --fill-color: #1967D2;\n",
              "      --hover-bg-color: #E2EBFA;\n",
              "      --hover-fill-color: #174EA6;\n",
              "      --disabled-fill-color: #AAA;\n",
              "      --disabled-bg-color: #DDD;\n",
              "  }\n",
              "\n",
              "  [theme=dark] .colab-df-quickchart {\n",
              "      --bg-color: #3B4455;\n",
              "      --fill-color: #D2E3FC;\n",
              "      --hover-bg-color: #434B5C;\n",
              "      --hover-fill-color: #FFFFFF;\n",
              "      --disabled-bg-color: #3B4455;\n",
              "      --disabled-fill-color: #666;\n",
              "  }\n",
              "\n",
              "  .colab-df-quickchart {\n",
              "    background-color: var(--bg-color);\n",
              "    border: none;\n",
              "    border-radius: 50%;\n",
              "    cursor: pointer;\n",
              "    display: none;\n",
              "    fill: var(--fill-color);\n",
              "    height: 32px;\n",
              "    padding: 0;\n",
              "    width: 32px;\n",
              "  }\n",
              "\n",
              "  .colab-df-quickchart:hover {\n",
              "    background-color: var(--hover-bg-color);\n",
              "    box-shadow: 0 1px 2px rgba(60, 64, 67, 0.3), 0 1px 3px 1px rgba(60, 64, 67, 0.15);\n",
              "    fill: var(--button-hover-fill-color);\n",
              "  }\n",
              "\n",
              "  .colab-df-quickchart-complete:disabled,\n",
              "  .colab-df-quickchart-complete:disabled:hover {\n",
              "    background-color: var(--disabled-bg-color);\n",
              "    fill: var(--disabled-fill-color);\n",
              "    box-shadow: none;\n",
              "  }\n",
              "\n",
              "  .colab-df-spinner {\n",
              "    border: 2px solid var(--fill-color);\n",
              "    border-color: transparent;\n",
              "    border-bottom-color: var(--fill-color);\n",
              "    animation:\n",
              "      spin 1s steps(1) infinite;\n",
              "  }\n",
              "\n",
              "  @keyframes spin {\n",
              "    0% {\n",
              "      border-color: transparent;\n",
              "      border-bottom-color: var(--fill-color);\n",
              "      border-left-color: var(--fill-color);\n",
              "    }\n",
              "    20% {\n",
              "      border-color: transparent;\n",
              "      border-left-color: var(--fill-color);\n",
              "      border-top-color: var(--fill-color);\n",
              "    }\n",
              "    30% {\n",
              "      border-color: transparent;\n",
              "      border-left-color: var(--fill-color);\n",
              "      border-top-color: var(--fill-color);\n",
              "      border-right-color: var(--fill-color);\n",
              "    }\n",
              "    40% {\n",
              "      border-color: transparent;\n",
              "      border-right-color: var(--fill-color);\n",
              "      border-top-color: var(--fill-color);\n",
              "    }\n",
              "    60% {\n",
              "      border-color: transparent;\n",
              "      border-right-color: var(--fill-color);\n",
              "    }\n",
              "    80% {\n",
              "      border-color: transparent;\n",
              "      border-right-color: var(--fill-color);\n",
              "      border-bottom-color: var(--fill-color);\n",
              "    }\n",
              "    90% {\n",
              "      border-color: transparent;\n",
              "      border-bottom-color: var(--fill-color);\n",
              "    }\n",
              "  }\n",
              "</style>\n",
              "\n",
              "  <script>\n",
              "    async function quickchart(key) {\n",
              "      const quickchartButtonEl =\n",
              "        document.querySelector('#' + key + ' button');\n",
              "      quickchartButtonEl.disabled = true;  // To prevent multiple clicks.\n",
              "      quickchartButtonEl.classList.add('colab-df-spinner');\n",
              "      try {\n",
              "        const charts = await google.colab.kernel.invokeFunction(\n",
              "            'suggestCharts', [key], {});\n",
              "      } catch (error) {\n",
              "        console.error('Error during call to suggestCharts:', error);\n",
              "      }\n",
              "      quickchartButtonEl.classList.remove('colab-df-spinner');\n",
              "      quickchartButtonEl.classList.add('colab-df-quickchart-complete');\n",
              "    }\n",
              "    (() => {\n",
              "      let quickchartButtonEl =\n",
              "        document.querySelector('#df-c2c6ffa1-9877-4acc-b7db-2c3f76598c8c button');\n",
              "      quickchartButtonEl.style.display =\n",
              "        google.colab.kernel.accessAllowed ? 'block' : 'none';\n",
              "    })();\n",
              "  </script>\n",
              "</div>\n",
              "\n",
              "    </div>\n",
              "  </div>\n"
            ],
            "application/vnd.google.colaboratory.intrinsic+json": {
              "type": "dataframe",
              "variable_name": "df",
              "summary": "{\n  \"name\": \"df\",\n  \"rows\": 5000,\n  \"fields\": [\n    {\n      \"column\": \"Temperature\",\n      \"properties\": {\n        \"dtype\": \"number\",\n        \"std\": 6.72066137351523,\n        \"min\": 13.4,\n        \"max\": 58.6,\n        \"num_unique_values\": 362,\n        \"samples\": [\n          20.3,\n          27.7,\n          32.0\n        ],\n        \"semantic_type\": \"\",\n        \"description\": \"\"\n      }\n    },\n    {\n      \"column\": \"Humidity\",\n      \"properties\": {\n        \"dtype\": \"number\",\n        \"std\": 15.863576682407786,\n        \"min\": 36.0,\n        \"max\": 128.1,\n        \"num_unique_values\": 723,\n        \"samples\": [\n          74.3,\n          58.5,\n          86.2\n        ],\n        \"semantic_type\": \"\",\n        \"description\": \"\"\n      }\n    },\n    {\n      \"column\": \"PM2.5\",\n      \"properties\": {\n        \"dtype\": \"number\",\n        \"std\": 24.554545879838066,\n        \"min\": 0.0,\n        \"max\": 295.0,\n        \"num_unique_values\": 815,\n        \"samples\": [\n          21.7,\n          11.5,\n          52.1\n        ],\n        \"semantic_type\": \"\",\n        \"description\": \"\"\n      }\n    },\n    {\n      \"column\": \"PM10\",\n      \"properties\": {\n        \"dtype\": \"number\",\n        \"std\": 27.349199378624032,\n        \"min\": -0.2,\n        \"max\": 315.8,\n        \"num_unique_values\": 955,\n        \"samples\": [\n          18.4,\n          97.4,\n          83.0\n        ],\n        \"semantic_type\": \"\",\n        \"description\": \"\"\n      }\n    },\n    {\n      \"column\": \"NO2\",\n      \"properties\": {\n        \"dtype\": \"number\",\n        \"std\": 8.895356376391709,\n        \"min\": 7.4,\n        \"max\": 64.9,\n        \"num_unique_values\": 445,\n        \"samples\": [\n          19.9,\n          19.8,\n          33.1\n        ],\n        \"semantic_type\": \"\",\n        \"description\": \"\"\n      }\n    },\n    {\n      \"column\": \"SO2\",\n      \"properties\": {\n        \"dtype\": \"number\",\n        \"std\": 6.750303377385161,\n        \"min\": -6.2,\n        \"max\": 44.9,\n        \"num_unique_values\": 348,\n        \"samples\": [\n          18.7,\n          13.4,\n          35.7\n        ],\n        \"semantic_type\": \"\",\n        \"description\": \"\"\n      }\n    },\n    {\n      \"column\": \"CO\",\n      \"properties\": {\n        \"dtype\": \"number\",\n        \"std\": 0.5460266694116166,\n        \"min\": 0.65,\n        \"max\": 3.72,\n        \"num_unique_values\": 265,\n        \"samples\": [\n          2.27,\n          2.02,\n          2.97\n        ],\n        \"semantic_type\": \"\",\n        \"description\": \"\"\n      }\n    },\n    {\n      \"column\": \"Proximity_to_Industrial_Areas\",\n      \"properties\": {\n        \"dtype\": \"number\",\n        \"std\": 3.610943730235125,\n        \"min\": 2.5,\n        \"max\": 25.8,\n        \"num_unique_values\": 179,\n        \"samples\": [\n          9.0,\n          4.1,\n          8.2\n        ],\n        \"semantic_type\": \"\",\n        \"description\": \"\"\n      }\n    },\n    {\n      \"column\": \"Population_Density\",\n      \"properties\": {\n        \"dtype\": \"number\",\n        \"std\": 152,\n        \"min\": 188,\n        \"max\": 957,\n        \"num_unique_values\": 683,\n        \"samples\": [\n          295,\n          679,\n          492\n        ],\n        \"semantic_type\": \"\",\n        \"description\": \"\"\n      }\n    },\n    {\n      \"column\": \"Air Quality\",\n      \"properties\": {\n        \"dtype\": \"category\",\n        \"num_unique_values\": 4,\n        \"samples\": [\n          \"Good\",\n          \"Poor\",\n          \"Moderate\"\n        ],\n        \"semantic_type\": \"\",\n        \"description\": \"\"\n      }\n    }\n  ]\n}"
            }
          },
          "metadata": {},
          "execution_count": 63
        }
      ],
      "execution_count": 63
    },
    {
      "cell_type": "markdown",
      "source": [
        "df.head shows the Top 5 dataset."
      ],
      "metadata": {
        "id": "ESg2y2pV7OY9"
      }
    },
    {
      "cell_type": "markdown",
      "source": [
        "**Data Description**"
      ],
      "metadata": {
        "id": "vnrvMFs4IZDg"
      }
    },
    {
      "cell_type": "markdown",
      "source": [
        "(a) When and by whom was the dataset created?\n",
        "\n",
        "-The dataset is create by Mujtaba Matin in 2024.\n",
        "Dataset link-('https://www.kaggle.com/datasets/mujtabamatin/air-quality-and-pollution-assessment/data')\n",
        "\n",
        "(b) How did you access the dataset?\n",
        "\n",
        "The dataset was accessed from Kaggle and uploaded as a CSV file for analysis\n",
        "\n",
        "(c) How does it align with the chosen UNSDG?\n",
        "\n",
        "UNSDG 11: Sustainable Cities and Communities → Poor air quality affects urban sustainability, public health, and living conditions.\n",
        "\n",
        "UNSDG 13: Climate Action → Monitoring pollution helps assess environmental impact and develop mitigation strategies.\n",
        "\n",
        "(d) List all the attributes (columns) present in the dataset:\n",
        "\n",
        "The dataset consists of 10 columns that capture air pollution and environmental factors:\n",
        "Temeperature, Humidity, PM2.5, PM10,NO2,SO2, CO,Proximity_to_Industrial_Areas,\n",
        "Population_Density,Air Quality\n",
        "\n",
        "Potential Questions the Dataset Can Help Answer\n",
        "How does population density affect air quality?\n",
        "Which pollutant has the strongest impact on air quality degradation?"
      ],
      "metadata": {
        "id": "VZCsL7cE-ucz"
      }
    },
    {
      "cell_type": "code",
      "source": [
        "df.tail()"
      ],
      "metadata": {
        "colab": {
          "base_uri": "https://localhost:8080/",
          "height": 206
        },
        "id": "CVBMAXDkSnjZ",
        "outputId": "6464c1d6-3e0c-4e68-ac89-a02b23537392",
        "ExecuteTime": {
          "end_time": "2025-02-11T05:02:59.539022Z",
          "start_time": "2025-02-11T05:02:59.518952Z"
        }
      },
      "outputs": [
        {
          "output_type": "execute_result",
          "data": {
            "text/plain": [
              "      Temperature  Humidity  PM2.5   PM10   NO2   SO2    CO  \\\n",
              "4995         40.6      74.1  116.0  126.7  45.5  25.7  2.11   \n",
              "4996         28.1      96.9    6.9   25.0  25.3  10.8  1.54   \n",
              "4997         25.9      78.2   14.2   22.1  34.8   7.8  1.63   \n",
              "4998         25.3      44.4   21.4   29.0  23.7   5.7  0.89   \n",
              "4999         24.1      77.9   81.7   94.3  23.2  10.5  1.38   \n",
              "\n",
              "      Proximity_to_Industrial_Areas  Population_Density Air Quality  \n",
              "4995                            2.8                 765   Hazardous  \n",
              "4996                            5.7                 709    Moderate  \n",
              "4997                            9.6                 379    Moderate  \n",
              "4998                           11.6                 241        Good  \n",
              "4999                            8.3                 461    Moderate  "
            ],
            "text/html": [
              "\n",
              "  <div id=\"df-f8861eec-a6ba-496f-897f-4aa6462560ad\" class=\"colab-df-container\">\n",
              "    <div>\n",
              "<style scoped>\n",
              "    .dataframe tbody tr th:only-of-type {\n",
              "        vertical-align: middle;\n",
              "    }\n",
              "\n",
              "    .dataframe tbody tr th {\n",
              "        vertical-align: top;\n",
              "    }\n",
              "\n",
              "    .dataframe thead th {\n",
              "        text-align: right;\n",
              "    }\n",
              "</style>\n",
              "<table border=\"1\" class=\"dataframe\">\n",
              "  <thead>\n",
              "    <tr style=\"text-align: right;\">\n",
              "      <th></th>\n",
              "      <th>Temperature</th>\n",
              "      <th>Humidity</th>\n",
              "      <th>PM2.5</th>\n",
              "      <th>PM10</th>\n",
              "      <th>NO2</th>\n",
              "      <th>SO2</th>\n",
              "      <th>CO</th>\n",
              "      <th>Proximity_to_Industrial_Areas</th>\n",
              "      <th>Population_Density</th>\n",
              "      <th>Air Quality</th>\n",
              "    </tr>\n",
              "  </thead>\n",
              "  <tbody>\n",
              "    <tr>\n",
              "      <th>4995</th>\n",
              "      <td>40.6</td>\n",
              "      <td>74.1</td>\n",
              "      <td>116.0</td>\n",
              "      <td>126.7</td>\n",
              "      <td>45.5</td>\n",
              "      <td>25.7</td>\n",
              "      <td>2.11</td>\n",
              "      <td>2.8</td>\n",
              "      <td>765</td>\n",
              "      <td>Hazardous</td>\n",
              "    </tr>\n",
              "    <tr>\n",
              "      <th>4996</th>\n",
              "      <td>28.1</td>\n",
              "      <td>96.9</td>\n",
              "      <td>6.9</td>\n",
              "      <td>25.0</td>\n",
              "      <td>25.3</td>\n",
              "      <td>10.8</td>\n",
              "      <td>1.54</td>\n",
              "      <td>5.7</td>\n",
              "      <td>709</td>\n",
              "      <td>Moderate</td>\n",
              "    </tr>\n",
              "    <tr>\n",
              "      <th>4997</th>\n",
              "      <td>25.9</td>\n",
              "      <td>78.2</td>\n",
              "      <td>14.2</td>\n",
              "      <td>22.1</td>\n",
              "      <td>34.8</td>\n",
              "      <td>7.8</td>\n",
              "      <td>1.63</td>\n",
              "      <td>9.6</td>\n",
              "      <td>379</td>\n",
              "      <td>Moderate</td>\n",
              "    </tr>\n",
              "    <tr>\n",
              "      <th>4998</th>\n",
              "      <td>25.3</td>\n",
              "      <td>44.4</td>\n",
              "      <td>21.4</td>\n",
              "      <td>29.0</td>\n",
              "      <td>23.7</td>\n",
              "      <td>5.7</td>\n",
              "      <td>0.89</td>\n",
              "      <td>11.6</td>\n",
              "      <td>241</td>\n",
              "      <td>Good</td>\n",
              "    </tr>\n",
              "    <tr>\n",
              "      <th>4999</th>\n",
              "      <td>24.1</td>\n",
              "      <td>77.9</td>\n",
              "      <td>81.7</td>\n",
              "      <td>94.3</td>\n",
              "      <td>23.2</td>\n",
              "      <td>10.5</td>\n",
              "      <td>1.38</td>\n",
              "      <td>8.3</td>\n",
              "      <td>461</td>\n",
              "      <td>Moderate</td>\n",
              "    </tr>\n",
              "  </tbody>\n",
              "</table>\n",
              "</div>\n",
              "    <div class=\"colab-df-buttons\">\n",
              "\n",
              "  <div class=\"colab-df-container\">\n",
              "    <button class=\"colab-df-convert\" onclick=\"convertToInteractive('df-f8861eec-a6ba-496f-897f-4aa6462560ad')\"\n",
              "            title=\"Convert this dataframe to an interactive table.\"\n",
              "            style=\"display:none;\">\n",
              "\n",
              "  <svg xmlns=\"http://www.w3.org/2000/svg\" height=\"24px\" viewBox=\"0 -960 960 960\">\n",
              "    <path d=\"M120-120v-720h720v720H120Zm60-500h600v-160H180v160Zm220 220h160v-160H400v160Zm0 220h160v-160H400v160ZM180-400h160v-160H180v160Zm440 0h160v-160H620v160ZM180-180h160v-160H180v160Zm440 0h160v-160H620v160Z\"/>\n",
              "  </svg>\n",
              "    </button>\n",
              "\n",
              "  <style>\n",
              "    .colab-df-container {\n",
              "      display:flex;\n",
              "      gap: 12px;\n",
              "    }\n",
              "\n",
              "    .colab-df-convert {\n",
              "      background-color: #E8F0FE;\n",
              "      border: none;\n",
              "      border-radius: 50%;\n",
              "      cursor: pointer;\n",
              "      display: none;\n",
              "      fill: #1967D2;\n",
              "      height: 32px;\n",
              "      padding: 0 0 0 0;\n",
              "      width: 32px;\n",
              "    }\n",
              "\n",
              "    .colab-df-convert:hover {\n",
              "      background-color: #E2EBFA;\n",
              "      box-shadow: 0px 1px 2px rgba(60, 64, 67, 0.3), 0px 1px 3px 1px rgba(60, 64, 67, 0.15);\n",
              "      fill: #174EA6;\n",
              "    }\n",
              "\n",
              "    .colab-df-buttons div {\n",
              "      margin-bottom: 4px;\n",
              "    }\n",
              "\n",
              "    [theme=dark] .colab-df-convert {\n",
              "      background-color: #3B4455;\n",
              "      fill: #D2E3FC;\n",
              "    }\n",
              "\n",
              "    [theme=dark] .colab-df-convert:hover {\n",
              "      background-color: #434B5C;\n",
              "      box-shadow: 0px 1px 3px 1px rgba(0, 0, 0, 0.15);\n",
              "      filter: drop-shadow(0px 1px 2px rgba(0, 0, 0, 0.3));\n",
              "      fill: #FFFFFF;\n",
              "    }\n",
              "  </style>\n",
              "\n",
              "    <script>\n",
              "      const buttonEl =\n",
              "        document.querySelector('#df-f8861eec-a6ba-496f-897f-4aa6462560ad button.colab-df-convert');\n",
              "      buttonEl.style.display =\n",
              "        google.colab.kernel.accessAllowed ? 'block' : 'none';\n",
              "\n",
              "      async function convertToInteractive(key) {\n",
              "        const element = document.querySelector('#df-f8861eec-a6ba-496f-897f-4aa6462560ad');\n",
              "        const dataTable =\n",
              "          await google.colab.kernel.invokeFunction('convertToInteractive',\n",
              "                                                    [key], {});\n",
              "        if (!dataTable) return;\n",
              "\n",
              "        const docLinkHtml = 'Like what you see? Visit the ' +\n",
              "          '<a target=\"_blank\" href=https://colab.research.google.com/notebooks/data_table.ipynb>data table notebook</a>'\n",
              "          + ' to learn more about interactive tables.';\n",
              "        element.innerHTML = '';\n",
              "        dataTable['output_type'] = 'display_data';\n",
              "        await google.colab.output.renderOutput(dataTable, element);\n",
              "        const docLink = document.createElement('div');\n",
              "        docLink.innerHTML = docLinkHtml;\n",
              "        element.appendChild(docLink);\n",
              "      }\n",
              "    </script>\n",
              "  </div>\n",
              "\n",
              "\n",
              "<div id=\"df-a648a14d-6899-41da-aa0b-5f2c06defe48\">\n",
              "  <button class=\"colab-df-quickchart\" onclick=\"quickchart('df-a648a14d-6899-41da-aa0b-5f2c06defe48')\"\n",
              "            title=\"Suggest charts\"\n",
              "            style=\"display:none;\">\n",
              "\n",
              "<svg xmlns=\"http://www.w3.org/2000/svg\" height=\"24px\"viewBox=\"0 0 24 24\"\n",
              "     width=\"24px\">\n",
              "    <g>\n",
              "        <path d=\"M19 3H5c-1.1 0-2 .9-2 2v14c0 1.1.9 2 2 2h14c1.1 0 2-.9 2-2V5c0-1.1-.9-2-2-2zM9 17H7v-7h2v7zm4 0h-2V7h2v10zm4 0h-2v-4h2v4z\"/>\n",
              "    </g>\n",
              "</svg>\n",
              "  </button>\n",
              "\n",
              "<style>\n",
              "  .colab-df-quickchart {\n",
              "      --bg-color: #E8F0FE;\n",
              "      --fill-color: #1967D2;\n",
              "      --hover-bg-color: #E2EBFA;\n",
              "      --hover-fill-color: #174EA6;\n",
              "      --disabled-fill-color: #AAA;\n",
              "      --disabled-bg-color: #DDD;\n",
              "  }\n",
              "\n",
              "  [theme=dark] .colab-df-quickchart {\n",
              "      --bg-color: #3B4455;\n",
              "      --fill-color: #D2E3FC;\n",
              "      --hover-bg-color: #434B5C;\n",
              "      --hover-fill-color: #FFFFFF;\n",
              "      --disabled-bg-color: #3B4455;\n",
              "      --disabled-fill-color: #666;\n",
              "  }\n",
              "\n",
              "  .colab-df-quickchart {\n",
              "    background-color: var(--bg-color);\n",
              "    border: none;\n",
              "    border-radius: 50%;\n",
              "    cursor: pointer;\n",
              "    display: none;\n",
              "    fill: var(--fill-color);\n",
              "    height: 32px;\n",
              "    padding: 0;\n",
              "    width: 32px;\n",
              "  }\n",
              "\n",
              "  .colab-df-quickchart:hover {\n",
              "    background-color: var(--hover-bg-color);\n",
              "    box-shadow: 0 1px 2px rgba(60, 64, 67, 0.3), 0 1px 3px 1px rgba(60, 64, 67, 0.15);\n",
              "    fill: var(--button-hover-fill-color);\n",
              "  }\n",
              "\n",
              "  .colab-df-quickchart-complete:disabled,\n",
              "  .colab-df-quickchart-complete:disabled:hover {\n",
              "    background-color: var(--disabled-bg-color);\n",
              "    fill: var(--disabled-fill-color);\n",
              "    box-shadow: none;\n",
              "  }\n",
              "\n",
              "  .colab-df-spinner {\n",
              "    border: 2px solid var(--fill-color);\n",
              "    border-color: transparent;\n",
              "    border-bottom-color: var(--fill-color);\n",
              "    animation:\n",
              "      spin 1s steps(1) infinite;\n",
              "  }\n",
              "\n",
              "  @keyframes spin {\n",
              "    0% {\n",
              "      border-color: transparent;\n",
              "      border-bottom-color: var(--fill-color);\n",
              "      border-left-color: var(--fill-color);\n",
              "    }\n",
              "    20% {\n",
              "      border-color: transparent;\n",
              "      border-left-color: var(--fill-color);\n",
              "      border-top-color: var(--fill-color);\n",
              "    }\n",
              "    30% {\n",
              "      border-color: transparent;\n",
              "      border-left-color: var(--fill-color);\n",
              "      border-top-color: var(--fill-color);\n",
              "      border-right-color: var(--fill-color);\n",
              "    }\n",
              "    40% {\n",
              "      border-color: transparent;\n",
              "      border-right-color: var(--fill-color);\n",
              "      border-top-color: var(--fill-color);\n",
              "    }\n",
              "    60% {\n",
              "      border-color: transparent;\n",
              "      border-right-color: var(--fill-color);\n",
              "    }\n",
              "    80% {\n",
              "      border-color: transparent;\n",
              "      border-right-color: var(--fill-color);\n",
              "      border-bottom-color: var(--fill-color);\n",
              "    }\n",
              "    90% {\n",
              "      border-color: transparent;\n",
              "      border-bottom-color: var(--fill-color);\n",
              "    }\n",
              "  }\n",
              "</style>\n",
              "\n",
              "  <script>\n",
              "    async function quickchart(key) {\n",
              "      const quickchartButtonEl =\n",
              "        document.querySelector('#' + key + ' button');\n",
              "      quickchartButtonEl.disabled = true;  // To prevent multiple clicks.\n",
              "      quickchartButtonEl.classList.add('colab-df-spinner');\n",
              "      try {\n",
              "        const charts = await google.colab.kernel.invokeFunction(\n",
              "            'suggestCharts', [key], {});\n",
              "      } catch (error) {\n",
              "        console.error('Error during call to suggestCharts:', error);\n",
              "      }\n",
              "      quickchartButtonEl.classList.remove('colab-df-spinner');\n",
              "      quickchartButtonEl.classList.add('colab-df-quickchart-complete');\n",
              "    }\n",
              "    (() => {\n",
              "      let quickchartButtonEl =\n",
              "        document.querySelector('#df-a648a14d-6899-41da-aa0b-5f2c06defe48 button');\n",
              "      quickchartButtonEl.style.display =\n",
              "        google.colab.kernel.accessAllowed ? 'block' : 'none';\n",
              "    })();\n",
              "  </script>\n",
              "</div>\n",
              "\n",
              "    </div>\n",
              "  </div>\n"
            ],
            "application/vnd.google.colaboratory.intrinsic+json": {
              "type": "dataframe",
              "summary": "{\n  \"name\": \"df\",\n  \"rows\": 5,\n  \"fields\": [\n    {\n      \"column\": \"Temperature\",\n      \"properties\": {\n        \"dtype\": \"number\",\n        \"std\": 6.7542579163073135,\n        \"min\": 24.1,\n        \"max\": 40.6,\n        \"num_unique_values\": 5,\n        \"samples\": [\n          28.1,\n          24.1,\n          25.9\n        ],\n        \"semantic_type\": \"\",\n        \"description\": \"\"\n      }\n    },\n    {\n      \"column\": \"Humidity\",\n      \"properties\": {\n        \"dtype\": \"number\",\n        \"std\": 18.92736114729151,\n        \"min\": 44.4,\n        \"max\": 96.9,\n        \"num_unique_values\": 5,\n        \"samples\": [\n          96.9,\n          77.9,\n          78.2\n        ],\n        \"semantic_type\": \"\",\n        \"description\": \"\"\n      }\n    },\n    {\n      \"column\": \"PM2.5\",\n      \"properties\": {\n        \"dtype\": \"number\",\n        \"std\": 48.2153813632123,\n        \"min\": 6.9,\n        \"max\": 116.0,\n        \"num_unique_values\": 5,\n        \"samples\": [\n          6.9,\n          81.7,\n          14.2\n        ],\n        \"semantic_type\": \"\",\n        \"description\": \"\"\n      }\n    },\n    {\n      \"column\": \"PM10\",\n      \"properties\": {\n        \"dtype\": \"number\",\n        \"std\": 48.078342317513396,\n        \"min\": 22.1,\n        \"max\": 126.7,\n        \"num_unique_values\": 5,\n        \"samples\": [\n          25.0,\n          94.3,\n          22.1\n        ],\n        \"semantic_type\": \"\",\n        \"description\": \"\"\n      }\n    },\n    {\n      \"column\": \"NO2\",\n      \"properties\": {\n        \"dtype\": \"number\",\n        \"std\": 9.618471812091565,\n        \"min\": 23.2,\n        \"max\": 45.5,\n        \"num_unique_values\": 5,\n        \"samples\": [\n          25.3,\n          23.2,\n          34.8\n        ],\n        \"semantic_type\": \"\",\n        \"description\": \"\"\n      }\n    },\n    {\n      \"column\": \"SO2\",\n      \"properties\": {\n        \"dtype\": \"number\",\n        \"std\": 7.884478422825444,\n        \"min\": 5.7,\n        \"max\": 25.7,\n        \"num_unique_values\": 5,\n        \"samples\": [\n          10.8,\n          10.5,\n          7.8\n        ],\n        \"semantic_type\": \"\",\n        \"description\": \"\"\n      }\n    },\n    {\n      \"column\": \"CO\",\n      \"properties\": {\n        \"dtype\": \"number\",\n        \"std\": 0.4406245567373656,\n        \"min\": 0.89,\n        \"max\": 2.11,\n        \"num_unique_values\": 5,\n        \"samples\": [\n          1.54,\n          1.38,\n          1.63\n        ],\n        \"semantic_type\": \"\",\n        \"description\": \"\"\n      }\n    },\n    {\n      \"column\": \"Proximity_to_Industrial_Areas\",\n      \"properties\": {\n        \"dtype\": \"number\",\n        \"std\": 3.4329287787543743,\n        \"min\": 2.8,\n        \"max\": 11.6,\n        \"num_unique_values\": 5,\n        \"samples\": [\n          5.7,\n          8.3,\n          9.6\n        ],\n        \"semantic_type\": \"\",\n        \"description\": \"\"\n      }\n    },\n    {\n      \"column\": \"Population_Density\",\n      \"properties\": {\n        \"dtype\": \"number\",\n        \"std\": 221,\n        \"min\": 241,\n        \"max\": 765,\n        \"num_unique_values\": 5,\n        \"samples\": [\n          709,\n          461,\n          379\n        ],\n        \"semantic_type\": \"\",\n        \"description\": \"\"\n      }\n    },\n    {\n      \"column\": \"Air Quality\",\n      \"properties\": {\n        \"dtype\": \"string\",\n        \"num_unique_values\": 3,\n        \"samples\": [\n          \"Hazardous\",\n          \"Moderate\",\n          \"Good\"\n        ],\n        \"semantic_type\": \"\",\n        \"description\": \"\"\n      }\n    }\n  ]\n}"
            }
          },
          "metadata": {},
          "execution_count": 64
        }
      ],
      "execution_count": 64
    },
    {
      "cell_type": "markdown",
      "source": [
        "df.tail shows the bottom 5 data"
      ],
      "metadata": {
        "id": "CyP0A7Pp7hDd"
      }
    },
    {
      "cell_type": "code",
      "source": [
        "\n",
        "#column with dtypes=pbject\n",
        "object_columns=df.select_dtypes(include=['object']).columns\n",
        "object_columns"
      ],
      "metadata": {
        "colab": {
          "base_uri": "https://localhost:8080/"
        },
        "id": "llZNUkufS5HN",
        "outputId": "76a334a1-8371-41dd-c28b-1b1a32587bb4",
        "ExecuteTime": {
          "end_time": "2025-02-11T05:02:59.712188Z",
          "start_time": "2025-02-11T05:02:59.704685Z"
        }
      },
      "outputs": [
        {
          "output_type": "execute_result",
          "data": {
            "text/plain": [
              "Index(['Air Quality'], dtype='object')"
            ]
          },
          "metadata": {},
          "execution_count": 65
        }
      ],
      "execution_count": 65
    },
    {
      "cell_type": "markdown",
      "source": [
        "After selecting all columns in df that have an object data type. 'Air Quality' is only column with object."
      ],
      "metadata": {
        "id": "oHyTCKsd7nZ2"
      }
    },
    {
      "cell_type": "code",
      "source": [
        "df['Air Quality'].unique()"
      ],
      "metadata": {
        "colab": {
          "base_uri": "https://localhost:8080/"
        },
        "id": "SVUxfqvMTARv",
        "outputId": "e5f82eb6-42a0-4ce3-f061-7361a1d98376",
        "ExecuteTime": {
          "end_time": "2025-02-11T05:02:59.990202Z",
          "start_time": "2025-02-11T05:02:59.982798Z"
        }
      },
      "outputs": [
        {
          "output_type": "execute_result",
          "data": {
            "text/plain": [
              "array(['Moderate', 'Good', 'Hazardous', 'Poor'], dtype=object)"
            ]
          },
          "metadata": {},
          "execution_count": 66
        }
      ],
      "execution_count": 66
    },
    {
      "cell_type": "markdown",
      "source": [
        "Indicates that the 'Ait Quality' column in my dataset contains four unique categorical values which are mentioned above."
      ],
      "metadata": {
        "id": "dbSoODdj8HG8"
      }
    },
    {
      "cell_type": "code",
      "source": [
        "df['Air Quality']=df['Air Quality'].map({'Moderate':0,'Good':1,'Hazardous':2,'Poor':3})"
      ],
      "metadata": {
        "id": "Wm4jxxlITFPh",
        "ExecuteTime": {
          "end_time": "2025-02-11T05:03:00.147519Z",
          "start_time": "2025-02-11T05:03:00.141094Z"
        }
      },
      "outputs": [],
      "execution_count": 67
    },
    {
      "cell_type": "markdown",
      "source": [
        "Converting the categorical values into numerical values."
      ],
      "metadata": {
        "id": "nvrxSvug8inX"
      }
    },
    {
      "source": [
        "df.dtypes"
      ],
      "cell_type": "code",
      "metadata": {
        "colab": {
          "base_uri": "https://localhost:8080/",
          "height": 398
        },
        "id": "vUIVkaowUB9z",
        "outputId": "7048210e-3920-437e-a84f-2db13d9f849c",
        "ExecuteTime": {
          "end_time": "2025-02-11T05:03:00.336842Z",
          "start_time": "2025-02-11T05:03:00.327082Z"
        }
      },
      "outputs": [
        {
          "output_type": "execute_result",
          "data": {
            "text/plain": [
              "Temperature                      float64\n",
              "Humidity                         float64\n",
              "PM2.5                            float64\n",
              "PM10                             float64\n",
              "NO2                              float64\n",
              "SO2                              float64\n",
              "CO                               float64\n",
              "Proximity_to_Industrial_Areas    float64\n",
              "Population_Density                 int64\n",
              "Air Quality                        int64\n",
              "dtype: object"
            ],
            "text/html": [
              "<div>\n",
              "<style scoped>\n",
              "    .dataframe tbody tr th:only-of-type {\n",
              "        vertical-align: middle;\n",
              "    }\n",
              "\n",
              "    .dataframe tbody tr th {\n",
              "        vertical-align: top;\n",
              "    }\n",
              "\n",
              "    .dataframe thead th {\n",
              "        text-align: right;\n",
              "    }\n",
              "</style>\n",
              "<table border=\"1\" class=\"dataframe\">\n",
              "  <thead>\n",
              "    <tr style=\"text-align: right;\">\n",
              "      <th></th>\n",
              "      <th>0</th>\n",
              "    </tr>\n",
              "  </thead>\n",
              "  <tbody>\n",
              "    <tr>\n",
              "      <th>Temperature</th>\n",
              "      <td>float64</td>\n",
              "    </tr>\n",
              "    <tr>\n",
              "      <th>Humidity</th>\n",
              "      <td>float64</td>\n",
              "    </tr>\n",
              "    <tr>\n",
              "      <th>PM2.5</th>\n",
              "      <td>float64</td>\n",
              "    </tr>\n",
              "    <tr>\n",
              "      <th>PM10</th>\n",
              "      <td>float64</td>\n",
              "    </tr>\n",
              "    <tr>\n",
              "      <th>NO2</th>\n",
              "      <td>float64</td>\n",
              "    </tr>\n",
              "    <tr>\n",
              "      <th>SO2</th>\n",
              "      <td>float64</td>\n",
              "    </tr>\n",
              "    <tr>\n",
              "      <th>CO</th>\n",
              "      <td>float64</td>\n",
              "    </tr>\n",
              "    <tr>\n",
              "      <th>Proximity_to_Industrial_Areas</th>\n",
              "      <td>float64</td>\n",
              "    </tr>\n",
              "    <tr>\n",
              "      <th>Population_Density</th>\n",
              "      <td>int64</td>\n",
              "    </tr>\n",
              "    <tr>\n",
              "      <th>Air Quality</th>\n",
              "      <td>int64</td>\n",
              "    </tr>\n",
              "  </tbody>\n",
              "</table>\n",
              "</div><br><label><b>dtype:</b> object</label>"
            ]
          },
          "metadata": {},
          "execution_count": 68
        }
      ],
      "execution_count": 68
    },
    {
      "cell_type": "code",
      "source": [
        "#NUll VALUES\n",
        "df.isnull().sum()"
      ],
      "metadata": {
        "colab": {
          "base_uri": "https://localhost:8080/",
          "height": 398
        },
        "id": "AcSDR63zTJRg",
        "outputId": "6bd45aa9-640a-41d1-da11-5105af4f9af6",
        "ExecuteTime": {
          "end_time": "2025-02-11T05:03:00.422305Z",
          "start_time": "2025-02-11T05:03:00.411301Z"
        }
      },
      "outputs": [
        {
          "output_type": "execute_result",
          "data": {
            "text/plain": [
              "Temperature                      0\n",
              "Humidity                         0\n",
              "PM2.5                            0\n",
              "PM10                             0\n",
              "NO2                              0\n",
              "SO2                              0\n",
              "CO                               0\n",
              "Proximity_to_Industrial_Areas    0\n",
              "Population_Density               0\n",
              "Air Quality                      0\n",
              "dtype: int64"
            ],
            "text/html": [
              "<div>\n",
              "<style scoped>\n",
              "    .dataframe tbody tr th:only-of-type {\n",
              "        vertical-align: middle;\n",
              "    }\n",
              "\n",
              "    .dataframe tbody tr th {\n",
              "        vertical-align: top;\n",
              "    }\n",
              "\n",
              "    .dataframe thead th {\n",
              "        text-align: right;\n",
              "    }\n",
              "</style>\n",
              "<table border=\"1\" class=\"dataframe\">\n",
              "  <thead>\n",
              "    <tr style=\"text-align: right;\">\n",
              "      <th></th>\n",
              "      <th>0</th>\n",
              "    </tr>\n",
              "  </thead>\n",
              "  <tbody>\n",
              "    <tr>\n",
              "      <th>Temperature</th>\n",
              "      <td>0</td>\n",
              "    </tr>\n",
              "    <tr>\n",
              "      <th>Humidity</th>\n",
              "      <td>0</td>\n",
              "    </tr>\n",
              "    <tr>\n",
              "      <th>PM2.5</th>\n",
              "      <td>0</td>\n",
              "    </tr>\n",
              "    <tr>\n",
              "      <th>PM10</th>\n",
              "      <td>0</td>\n",
              "    </tr>\n",
              "    <tr>\n",
              "      <th>NO2</th>\n",
              "      <td>0</td>\n",
              "    </tr>\n",
              "    <tr>\n",
              "      <th>SO2</th>\n",
              "      <td>0</td>\n",
              "    </tr>\n",
              "    <tr>\n",
              "      <th>CO</th>\n",
              "      <td>0</td>\n",
              "    </tr>\n",
              "    <tr>\n",
              "      <th>Proximity_to_Industrial_Areas</th>\n",
              "      <td>0</td>\n",
              "    </tr>\n",
              "    <tr>\n",
              "      <th>Population_Density</th>\n",
              "      <td>0</td>\n",
              "    </tr>\n",
              "    <tr>\n",
              "      <th>Air Quality</th>\n",
              "      <td>0</td>\n",
              "    </tr>\n",
              "  </tbody>\n",
              "</table>\n",
              "</div><br><label><b>dtype:</b> int64</label>"
            ]
          },
          "metadata": {},
          "execution_count": 69
        }
      ],
      "execution_count": 69
    },
    {
      "cell_type": "markdown",
      "source": [
        "Shows no null values."
      ],
      "metadata": {
        "id": "rAf2UjUG8tVY"
      }
    },
    {
      "cell_type": "code",
      "source": [
        "df.describe()"
      ],
      "metadata": {
        "colab": {
          "base_uri": "https://localhost:8080/",
          "height": 300
        },
        "id": "rRNcfr8vTO_d",
        "outputId": "bfc247d5-47f1-44af-a41b-290b3d76b596",
        "ExecuteTime": {
          "end_time": "2025-02-11T05:03:00.559413Z",
          "start_time": "2025-02-11T05:03:00.534177Z"
        }
      },
      "outputs": [
        {
          "output_type": "execute_result",
          "data": {
            "text/plain": [
              "       Temperature     Humidity        PM2.5         PM10          NO2  \\\n",
              "count  5000.000000  5000.000000  5000.000000  5000.000000  5000.000000   \n",
              "mean     30.029020    70.056120    20.142140    30.218360    26.412100   \n",
              "std       6.720661    15.863577    24.554546    27.349199     8.895356   \n",
              "min      13.400000    36.000000     0.000000    -0.200000     7.400000   \n",
              "25%      25.100000    58.300000     4.600000    12.300000    20.100000   \n",
              "50%      29.000000    69.800000    12.000000    21.700000    25.300000   \n",
              "75%      34.000000    80.300000    26.100000    38.100000    31.900000   \n",
              "max      58.600000   128.100000   295.000000   315.800000    64.900000   \n",
              "\n",
              "               SO2           CO  Proximity_to_Industrial_Areas  \\\n",
              "count  5000.000000  5000.000000                    5000.000000   \n",
              "mean     10.014820     1.500354                       8.425400   \n",
              "std       6.750303     0.546027                       3.610944   \n",
              "min      -6.200000     0.650000                       2.500000   \n",
              "25%       5.100000     1.030000                       5.400000   \n",
              "50%       8.000000     1.410000                       7.900000   \n",
              "75%      13.725000     1.840000                      11.100000   \n",
              "max      44.900000     3.720000                      25.800000   \n",
              "\n",
              "       Population_Density  Air Quality  \n",
              "count         5000.000000  5000.000000  \n",
              "mean           497.423800     1.200000  \n",
              "std            152.754084     1.077141  \n",
              "min            188.000000     0.000000  \n",
              "25%            381.000000     0.000000  \n",
              "50%            494.000000     1.000000  \n",
              "75%            600.000000     2.000000  \n",
              "max            957.000000     3.000000  "
            ],
            "text/html": [
              "\n",
              "  <div id=\"df-7ea013e8-b2ce-426b-b7a1-3b76a9dbe90b\" class=\"colab-df-container\">\n",
              "    <div>\n",
              "<style scoped>\n",
              "    .dataframe tbody tr th:only-of-type {\n",
              "        vertical-align: middle;\n",
              "    }\n",
              "\n",
              "    .dataframe tbody tr th {\n",
              "        vertical-align: top;\n",
              "    }\n",
              "\n",
              "    .dataframe thead th {\n",
              "        text-align: right;\n",
              "    }\n",
              "</style>\n",
              "<table border=\"1\" class=\"dataframe\">\n",
              "  <thead>\n",
              "    <tr style=\"text-align: right;\">\n",
              "      <th></th>\n",
              "      <th>Temperature</th>\n",
              "      <th>Humidity</th>\n",
              "      <th>PM2.5</th>\n",
              "      <th>PM10</th>\n",
              "      <th>NO2</th>\n",
              "      <th>SO2</th>\n",
              "      <th>CO</th>\n",
              "      <th>Proximity_to_Industrial_Areas</th>\n",
              "      <th>Population_Density</th>\n",
              "      <th>Air Quality</th>\n",
              "    </tr>\n",
              "  </thead>\n",
              "  <tbody>\n",
              "    <tr>\n",
              "      <th>count</th>\n",
              "      <td>5000.000000</td>\n",
              "      <td>5000.000000</td>\n",
              "      <td>5000.000000</td>\n",
              "      <td>5000.000000</td>\n",
              "      <td>5000.000000</td>\n",
              "      <td>5000.000000</td>\n",
              "      <td>5000.000000</td>\n",
              "      <td>5000.000000</td>\n",
              "      <td>5000.000000</td>\n",
              "      <td>5000.000000</td>\n",
              "    </tr>\n",
              "    <tr>\n",
              "      <th>mean</th>\n",
              "      <td>30.029020</td>\n",
              "      <td>70.056120</td>\n",
              "      <td>20.142140</td>\n",
              "      <td>30.218360</td>\n",
              "      <td>26.412100</td>\n",
              "      <td>10.014820</td>\n",
              "      <td>1.500354</td>\n",
              "      <td>8.425400</td>\n",
              "      <td>497.423800</td>\n",
              "      <td>1.200000</td>\n",
              "    </tr>\n",
              "    <tr>\n",
              "      <th>std</th>\n",
              "      <td>6.720661</td>\n",
              "      <td>15.863577</td>\n",
              "      <td>24.554546</td>\n",
              "      <td>27.349199</td>\n",
              "      <td>8.895356</td>\n",
              "      <td>6.750303</td>\n",
              "      <td>0.546027</td>\n",
              "      <td>3.610944</td>\n",
              "      <td>152.754084</td>\n",
              "      <td>1.077141</td>\n",
              "    </tr>\n",
              "    <tr>\n",
              "      <th>min</th>\n",
              "      <td>13.400000</td>\n",
              "      <td>36.000000</td>\n",
              "      <td>0.000000</td>\n",
              "      <td>-0.200000</td>\n",
              "      <td>7.400000</td>\n",
              "      <td>-6.200000</td>\n",
              "      <td>0.650000</td>\n",
              "      <td>2.500000</td>\n",
              "      <td>188.000000</td>\n",
              "      <td>0.000000</td>\n",
              "    </tr>\n",
              "    <tr>\n",
              "      <th>25%</th>\n",
              "      <td>25.100000</td>\n",
              "      <td>58.300000</td>\n",
              "      <td>4.600000</td>\n",
              "      <td>12.300000</td>\n",
              "      <td>20.100000</td>\n",
              "      <td>5.100000</td>\n",
              "      <td>1.030000</td>\n",
              "      <td>5.400000</td>\n",
              "      <td>381.000000</td>\n",
              "      <td>0.000000</td>\n",
              "    </tr>\n",
              "    <tr>\n",
              "      <th>50%</th>\n",
              "      <td>29.000000</td>\n",
              "      <td>69.800000</td>\n",
              "      <td>12.000000</td>\n",
              "      <td>21.700000</td>\n",
              "      <td>25.300000</td>\n",
              "      <td>8.000000</td>\n",
              "      <td>1.410000</td>\n",
              "      <td>7.900000</td>\n",
              "      <td>494.000000</td>\n",
              "      <td>1.000000</td>\n",
              "    </tr>\n",
              "    <tr>\n",
              "      <th>75%</th>\n",
              "      <td>34.000000</td>\n",
              "      <td>80.300000</td>\n",
              "      <td>26.100000</td>\n",
              "      <td>38.100000</td>\n",
              "      <td>31.900000</td>\n",
              "      <td>13.725000</td>\n",
              "      <td>1.840000</td>\n",
              "      <td>11.100000</td>\n",
              "      <td>600.000000</td>\n",
              "      <td>2.000000</td>\n",
              "    </tr>\n",
              "    <tr>\n",
              "      <th>max</th>\n",
              "      <td>58.600000</td>\n",
              "      <td>128.100000</td>\n",
              "      <td>295.000000</td>\n",
              "      <td>315.800000</td>\n",
              "      <td>64.900000</td>\n",
              "      <td>44.900000</td>\n",
              "      <td>3.720000</td>\n",
              "      <td>25.800000</td>\n",
              "      <td>957.000000</td>\n",
              "      <td>3.000000</td>\n",
              "    </tr>\n",
              "  </tbody>\n",
              "</table>\n",
              "</div>\n",
              "    <div class=\"colab-df-buttons\">\n",
              "\n",
              "  <div class=\"colab-df-container\">\n",
              "    <button class=\"colab-df-convert\" onclick=\"convertToInteractive('df-7ea013e8-b2ce-426b-b7a1-3b76a9dbe90b')\"\n",
              "            title=\"Convert this dataframe to an interactive table.\"\n",
              "            style=\"display:none;\">\n",
              "\n",
              "  <svg xmlns=\"http://www.w3.org/2000/svg\" height=\"24px\" viewBox=\"0 -960 960 960\">\n",
              "    <path d=\"M120-120v-720h720v720H120Zm60-500h600v-160H180v160Zm220 220h160v-160H400v160Zm0 220h160v-160H400v160ZM180-400h160v-160H180v160Zm440 0h160v-160H620v160ZM180-180h160v-160H180v160Zm440 0h160v-160H620v160Z\"/>\n",
              "  </svg>\n",
              "    </button>\n",
              "\n",
              "  <style>\n",
              "    .colab-df-container {\n",
              "      display:flex;\n",
              "      gap: 12px;\n",
              "    }\n",
              "\n",
              "    .colab-df-convert {\n",
              "      background-color: #E8F0FE;\n",
              "      border: none;\n",
              "      border-radius: 50%;\n",
              "      cursor: pointer;\n",
              "      display: none;\n",
              "      fill: #1967D2;\n",
              "      height: 32px;\n",
              "      padding: 0 0 0 0;\n",
              "      width: 32px;\n",
              "    }\n",
              "\n",
              "    .colab-df-convert:hover {\n",
              "      background-color: #E2EBFA;\n",
              "      box-shadow: 0px 1px 2px rgba(60, 64, 67, 0.3), 0px 1px 3px 1px rgba(60, 64, 67, 0.15);\n",
              "      fill: #174EA6;\n",
              "    }\n",
              "\n",
              "    .colab-df-buttons div {\n",
              "      margin-bottom: 4px;\n",
              "    }\n",
              "\n",
              "    [theme=dark] .colab-df-convert {\n",
              "      background-color: #3B4455;\n",
              "      fill: #D2E3FC;\n",
              "    }\n",
              "\n",
              "    [theme=dark] .colab-df-convert:hover {\n",
              "      background-color: #434B5C;\n",
              "      box-shadow: 0px 1px 3px 1px rgba(0, 0, 0, 0.15);\n",
              "      filter: drop-shadow(0px 1px 2px rgba(0, 0, 0, 0.3));\n",
              "      fill: #FFFFFF;\n",
              "    }\n",
              "  </style>\n",
              "\n",
              "    <script>\n",
              "      const buttonEl =\n",
              "        document.querySelector('#df-7ea013e8-b2ce-426b-b7a1-3b76a9dbe90b button.colab-df-convert');\n",
              "      buttonEl.style.display =\n",
              "        google.colab.kernel.accessAllowed ? 'block' : 'none';\n",
              "\n",
              "      async function convertToInteractive(key) {\n",
              "        const element = document.querySelector('#df-7ea013e8-b2ce-426b-b7a1-3b76a9dbe90b');\n",
              "        const dataTable =\n",
              "          await google.colab.kernel.invokeFunction('convertToInteractive',\n",
              "                                                    [key], {});\n",
              "        if (!dataTable) return;\n",
              "\n",
              "        const docLinkHtml = 'Like what you see? Visit the ' +\n",
              "          '<a target=\"_blank\" href=https://colab.research.google.com/notebooks/data_table.ipynb>data table notebook</a>'\n",
              "          + ' to learn more about interactive tables.';\n",
              "        element.innerHTML = '';\n",
              "        dataTable['output_type'] = 'display_data';\n",
              "        await google.colab.output.renderOutput(dataTable, element);\n",
              "        const docLink = document.createElement('div');\n",
              "        docLink.innerHTML = docLinkHtml;\n",
              "        element.appendChild(docLink);\n",
              "      }\n",
              "    </script>\n",
              "  </div>\n",
              "\n",
              "\n",
              "<div id=\"df-2d41e7a3-c516-4965-9831-7b189080ae80\">\n",
              "  <button class=\"colab-df-quickchart\" onclick=\"quickchart('df-2d41e7a3-c516-4965-9831-7b189080ae80')\"\n",
              "            title=\"Suggest charts\"\n",
              "            style=\"display:none;\">\n",
              "\n",
              "<svg xmlns=\"http://www.w3.org/2000/svg\" height=\"24px\"viewBox=\"0 0 24 24\"\n",
              "     width=\"24px\">\n",
              "    <g>\n",
              "        <path d=\"M19 3H5c-1.1 0-2 .9-2 2v14c0 1.1.9 2 2 2h14c1.1 0 2-.9 2-2V5c0-1.1-.9-2-2-2zM9 17H7v-7h2v7zm4 0h-2V7h2v10zm4 0h-2v-4h2v4z\"/>\n",
              "    </g>\n",
              "</svg>\n",
              "  </button>\n",
              "\n",
              "<style>\n",
              "  .colab-df-quickchart {\n",
              "      --bg-color: #E8F0FE;\n",
              "      --fill-color: #1967D2;\n",
              "      --hover-bg-color: #E2EBFA;\n",
              "      --hover-fill-color: #174EA6;\n",
              "      --disabled-fill-color: #AAA;\n",
              "      --disabled-bg-color: #DDD;\n",
              "  }\n",
              "\n",
              "  [theme=dark] .colab-df-quickchart {\n",
              "      --bg-color: #3B4455;\n",
              "      --fill-color: #D2E3FC;\n",
              "      --hover-bg-color: #434B5C;\n",
              "      --hover-fill-color: #FFFFFF;\n",
              "      --disabled-bg-color: #3B4455;\n",
              "      --disabled-fill-color: #666;\n",
              "  }\n",
              "\n",
              "  .colab-df-quickchart {\n",
              "    background-color: var(--bg-color);\n",
              "    border: none;\n",
              "    border-radius: 50%;\n",
              "    cursor: pointer;\n",
              "    display: none;\n",
              "    fill: var(--fill-color);\n",
              "    height: 32px;\n",
              "    padding: 0;\n",
              "    width: 32px;\n",
              "  }\n",
              "\n",
              "  .colab-df-quickchart:hover {\n",
              "    background-color: var(--hover-bg-color);\n",
              "    box-shadow: 0 1px 2px rgba(60, 64, 67, 0.3), 0 1px 3px 1px rgba(60, 64, 67, 0.15);\n",
              "    fill: var(--button-hover-fill-color);\n",
              "  }\n",
              "\n",
              "  .colab-df-quickchart-complete:disabled,\n",
              "  .colab-df-quickchart-complete:disabled:hover {\n",
              "    background-color: var(--disabled-bg-color);\n",
              "    fill: var(--disabled-fill-color);\n",
              "    box-shadow: none;\n",
              "  }\n",
              "\n",
              "  .colab-df-spinner {\n",
              "    border: 2px solid var(--fill-color);\n",
              "    border-color: transparent;\n",
              "    border-bottom-color: var(--fill-color);\n",
              "    animation:\n",
              "      spin 1s steps(1) infinite;\n",
              "  }\n",
              "\n",
              "  @keyframes spin {\n",
              "    0% {\n",
              "      border-color: transparent;\n",
              "      border-bottom-color: var(--fill-color);\n",
              "      border-left-color: var(--fill-color);\n",
              "    }\n",
              "    20% {\n",
              "      border-color: transparent;\n",
              "      border-left-color: var(--fill-color);\n",
              "      border-top-color: var(--fill-color);\n",
              "    }\n",
              "    30% {\n",
              "      border-color: transparent;\n",
              "      border-left-color: var(--fill-color);\n",
              "      border-top-color: var(--fill-color);\n",
              "      border-right-color: var(--fill-color);\n",
              "    }\n",
              "    40% {\n",
              "      border-color: transparent;\n",
              "      border-right-color: var(--fill-color);\n",
              "      border-top-color: var(--fill-color);\n",
              "    }\n",
              "    60% {\n",
              "      border-color: transparent;\n",
              "      border-right-color: var(--fill-color);\n",
              "    }\n",
              "    80% {\n",
              "      border-color: transparent;\n",
              "      border-right-color: var(--fill-color);\n",
              "      border-bottom-color: var(--fill-color);\n",
              "    }\n",
              "    90% {\n",
              "      border-color: transparent;\n",
              "      border-bottom-color: var(--fill-color);\n",
              "    }\n",
              "  }\n",
              "</style>\n",
              "\n",
              "  <script>\n",
              "    async function quickchart(key) {\n",
              "      const quickchartButtonEl =\n",
              "        document.querySelector('#' + key + ' button');\n",
              "      quickchartButtonEl.disabled = true;  // To prevent multiple clicks.\n",
              "      quickchartButtonEl.classList.add('colab-df-spinner');\n",
              "      try {\n",
              "        const charts = await google.colab.kernel.invokeFunction(\n",
              "            'suggestCharts', [key], {});\n",
              "      } catch (error) {\n",
              "        console.error('Error during call to suggestCharts:', error);\n",
              "      }\n",
              "      quickchartButtonEl.classList.remove('colab-df-spinner');\n",
              "      quickchartButtonEl.classList.add('colab-df-quickchart-complete');\n",
              "    }\n",
              "    (() => {\n",
              "      let quickchartButtonEl =\n",
              "        document.querySelector('#df-2d41e7a3-c516-4965-9831-7b189080ae80 button');\n",
              "      quickchartButtonEl.style.display =\n",
              "        google.colab.kernel.accessAllowed ? 'block' : 'none';\n",
              "    })();\n",
              "  </script>\n",
              "</div>\n",
              "\n",
              "    </div>\n",
              "  </div>\n"
            ],
            "application/vnd.google.colaboratory.intrinsic+json": {
              "type": "dataframe",
              "summary": "{\n  \"name\": \"df\",\n  \"rows\": 8,\n  \"fields\": [\n    {\n      \"column\": \"Temperature\",\n      \"properties\": {\n        \"dtype\": \"number\",\n        \"std\": 1757.8916597927537,\n        \"min\": 6.72066137351523,\n        \"max\": 5000.0,\n        \"num_unique_values\": 8,\n        \"samples\": [\n          30.029020000000003,\n          29.0,\n          5000.0\n        ],\n        \"semantic_type\": \"\",\n        \"description\": \"\"\n      }\n    },\n    {\n      \"column\": \"Humidity\",\n      \"properties\": {\n        \"dtype\": \"number\",\n        \"std\": 1744.9228777420553,\n        \"min\": 15.863576682407786,\n        \"max\": 5000.0,\n        \"num_unique_values\": 8,\n        \"samples\": [\n          70.05611999999999,\n          69.8,\n          5000.0\n        ],\n        \"semantic_type\": \"\",\n        \"description\": \"\"\n      }\n    },\n    {\n      \"column\": \"PM2.5\",\n      \"properties\": {\n        \"dtype\": \"number\",\n        \"std\": 1751.22837463984,\n        \"min\": 0.0,\n        \"max\": 5000.0,\n        \"num_unique_values\": 8,\n        \"samples\": [\n          20.142139999999998,\n          12.0,\n          5000.0\n        ],\n        \"semantic_type\": \"\",\n        \"description\": \"\"\n      }\n    },\n    {\n      \"column\": \"PM10\",\n      \"properties\": {\n        \"dtype\": \"number\",\n        \"std\": 1748.350130381501,\n        \"min\": -0.2,\n        \"max\": 5000.0,\n        \"num_unique_values\": 8,\n        \"samples\": [\n          30.218360000000004,\n          21.7,\n          5000.0\n        ],\n        \"semantic_type\": \"\",\n        \"description\": \"\"\n      }\n    },\n    {\n      \"column\": \"NO2\",\n      \"properties\": {\n        \"dtype\": \"number\",\n        \"std\": 1758.5179246819112,\n        \"min\": 7.4,\n        \"max\": 5000.0,\n        \"num_unique_values\": 8,\n        \"samples\": [\n          26.4121,\n          25.3,\n          5000.0\n        ],\n        \"semantic_type\": \"\",\n        \"description\": \"\"\n      }\n    },\n    {\n      \"column\": \"SO2\",\n      \"properties\": {\n        \"dtype\": \"number\",\n        \"std\": 1763.671883420168,\n        \"min\": -6.2,\n        \"max\": 5000.0,\n        \"num_unique_values\": 8,\n        \"samples\": [\n          10.01482,\n          8.0,\n          5000.0\n        ],\n        \"semantic_type\": \"\",\n        \"description\": \"\"\n      }\n    },\n    {\n      \"column\": \"CO\",\n      \"properties\": {\n        \"dtype\": \"number\",\n        \"std\": 1767.2269830484042,\n        \"min\": 0.5460266694116166,\n        \"max\": 5000.0,\n        \"num_unique_values\": 8,\n        \"samples\": [\n          1.5003540000000002,\n          1.41,\n          5000.0\n        ],\n        \"semantic_type\": \"\",\n        \"description\": \"\"\n      }\n    },\n    {\n      \"column\": \"Proximity_to_Industrial_Areas\",\n      \"properties\": {\n        \"dtype\": \"number\",\n        \"std\": 1764.5123331691411,\n        \"min\": 2.5,\n        \"max\": 5000.0,\n        \"num_unique_values\": 8,\n        \"samples\": [\n          8.4254,\n          7.9,\n          5000.0\n        ],\n        \"semantic_type\": \"\",\n        \"description\": \"\"\n      }\n    },\n    {\n      \"column\": \"Population_Density\",\n      \"properties\": {\n        \"dtype\": \"number\",\n        \"std\": 1622.24156946901,\n        \"min\": 152.75408392442807,\n        \"max\": 5000.0,\n        \"num_unique_values\": 8,\n        \"samples\": [\n          497.4238,\n          494.0,\n          5000.0\n        ],\n        \"semantic_type\": \"\",\n        \"description\": \"\"\n      }\n    },\n    {\n      \"column\": \"Air Quality\",\n      \"properties\": {\n        \"dtype\": \"number\",\n        \"std\": 1767.3491695797134,\n        \"min\": 0.0,\n        \"max\": 5000.0,\n        \"num_unique_values\": 7,\n        \"samples\": [\n          5000.0,\n          1.2,\n          2.0\n        ],\n        \"semantic_type\": \"\",\n        \"description\": \"\"\n      }\n    }\n  ]\n}"
            }
          },
          "metadata": {},
          "execution_count": 70
        }
      ],
      "execution_count": 70
    },
    {
      "cell_type": "markdown",
      "source": [
        "df.describe has provide the summary of the statistics for each numerical column"
      ],
      "metadata": {
        "id": "BJU9yoXO879k"
      }
    },
    {
      "cell_type": "code",
      "source": [
        "df.duplicated().sum()"
      ],
      "metadata": {
        "colab": {
          "base_uri": "https://localhost:8080/"
        },
        "id": "iNmSf2i_TZdJ",
        "outputId": "fd8fc683-dcf0-43b1-ee4d-bd4615bc27c4",
        "ExecuteTime": {
          "end_time": "2025-02-11T05:03:00.729439Z",
          "start_time": "2025-02-11T05:03:00.721965Z"
        }
      },
      "outputs": [
        {
          "output_type": "execute_result",
          "data": {
            "text/plain": [
              "0"
            ]
          },
          "metadata": {},
          "execution_count": 71
        }
      ],
      "execution_count": 71
    },
    {
      "cell_type": "markdown",
      "source": [
        "Shows no duplicated values."
      ],
      "metadata": {
        "id": "FhsgncID9F4Y"
      }
    },
    {
      "cell_type": "code",
      "source": [
        "df.shape"
      ],
      "metadata": {
        "colab": {
          "base_uri": "https://localhost:8080/"
        },
        "id": "kzgVp1cvTfns",
        "outputId": "b672236b-cb3c-4b52-b6d1-af661c884587",
        "ExecuteTime": {
          "end_time": "2025-02-11T05:03:00.865165Z",
          "start_time": "2025-02-11T05:03:00.860635Z"
        }
      },
      "outputs": [
        {
          "output_type": "execute_result",
          "data": {
            "text/plain": [
              "(5000, 10)"
            ]
          },
          "metadata": {},
          "execution_count": 72
        }
      ],
      "execution_count": 72
    },
    {
      "cell_type": "markdown",
      "source": [
        "There are 5000 columns and 10 rows."
      ],
      "metadata": {
        "id": "bVrnSbTP9RoJ"
      }
    },
    {
      "cell_type": "code",
      "source": [
        "df.info()"
      ],
      "metadata": {
        "colab": {
          "base_uri": "https://localhost:8080/"
        },
        "id": "q12r175tTiVw",
        "outputId": "c0e2f4d9-b8e9-48bf-eb45-54ff70235b24",
        "ExecuteTime": {
          "end_time": "2025-02-11T05:03:01.031268Z",
          "start_time": "2025-02-11T05:03:01.023350Z"
        }
      },
      "outputs": [
        {
          "output_type": "stream",
          "name": "stdout",
          "text": [
            "<class 'pandas.core.frame.DataFrame'>\n",
            "RangeIndex: 5000 entries, 0 to 4999\n",
            "Data columns (total 10 columns):\n",
            " #   Column                         Non-Null Count  Dtype  \n",
            "---  ------                         --------------  -----  \n",
            " 0   Temperature                    5000 non-null   float64\n",
            " 1   Humidity                       5000 non-null   float64\n",
            " 2   PM2.5                          5000 non-null   float64\n",
            " 3   PM10                           5000 non-null   float64\n",
            " 4   NO2                            5000 non-null   float64\n",
            " 5   SO2                            5000 non-null   float64\n",
            " 6   CO                             5000 non-null   float64\n",
            " 7   Proximity_to_Industrial_Areas  5000 non-null   float64\n",
            " 8   Population_Density             5000 non-null   int64  \n",
            " 9   Air Quality                    5000 non-null   int64  \n",
            "dtypes: float64(8), int64(2)\n",
            "memory usage: 390.8 KB\n"
          ]
        }
      ],
      "execution_count": 73
    },
    {
      "cell_type": "code",
      "source": [
        "df.nunique()"
      ],
      "metadata": {
        "colab": {
          "base_uri": "https://localhost:8080/",
          "height": 398
        },
        "id": "BbyM4MmvTlLk",
        "outputId": "dff679de-f143-422d-a9fc-dc2538aa50c6",
        "ExecuteTime": {
          "end_time": "2025-02-11T05:03:01.128035Z",
          "start_time": "2025-02-11T05:03:01.120555Z"
        }
      },
      "outputs": [
        {
          "output_type": "execute_result",
          "data": {
            "text/plain": [
              "Temperature                      362\n",
              "Humidity                         723\n",
              "PM2.5                            815\n",
              "PM10                             955\n",
              "NO2                              445\n",
              "SO2                              348\n",
              "CO                               265\n",
              "Proximity_to_Industrial_Areas    179\n",
              "Population_Density               683\n",
              "Air Quality                        4\n",
              "dtype: int64"
            ],
            "text/html": [
              "<div>\n",
              "<style scoped>\n",
              "    .dataframe tbody tr th:only-of-type {\n",
              "        vertical-align: middle;\n",
              "    }\n",
              "\n",
              "    .dataframe tbody tr th {\n",
              "        vertical-align: top;\n",
              "    }\n",
              "\n",
              "    .dataframe thead th {\n",
              "        text-align: right;\n",
              "    }\n",
              "</style>\n",
              "<table border=\"1\" class=\"dataframe\">\n",
              "  <thead>\n",
              "    <tr style=\"text-align: right;\">\n",
              "      <th></th>\n",
              "      <th>0</th>\n",
              "    </tr>\n",
              "  </thead>\n",
              "  <tbody>\n",
              "    <tr>\n",
              "      <th>Temperature</th>\n",
              "      <td>362</td>\n",
              "    </tr>\n",
              "    <tr>\n",
              "      <th>Humidity</th>\n",
              "      <td>723</td>\n",
              "    </tr>\n",
              "    <tr>\n",
              "      <th>PM2.5</th>\n",
              "      <td>815</td>\n",
              "    </tr>\n",
              "    <tr>\n",
              "      <th>PM10</th>\n",
              "      <td>955</td>\n",
              "    </tr>\n",
              "    <tr>\n",
              "      <th>NO2</th>\n",
              "      <td>445</td>\n",
              "    </tr>\n",
              "    <tr>\n",
              "      <th>SO2</th>\n",
              "      <td>348</td>\n",
              "    </tr>\n",
              "    <tr>\n",
              "      <th>CO</th>\n",
              "      <td>265</td>\n",
              "    </tr>\n",
              "    <tr>\n",
              "      <th>Proximity_to_Industrial_Areas</th>\n",
              "      <td>179</td>\n",
              "    </tr>\n",
              "    <tr>\n",
              "      <th>Population_Density</th>\n",
              "      <td>683</td>\n",
              "    </tr>\n",
              "    <tr>\n",
              "      <th>Air Quality</th>\n",
              "      <td>4</td>\n",
              "    </tr>\n",
              "  </tbody>\n",
              "</table>\n",
              "</div><br><label><b>dtype:</b> int64</label>"
            ]
          },
          "metadata": {},
          "execution_count": 74
        }
      ],
      "execution_count": 74
    },
    {
      "cell_type": "code",
      "source": [
        "df.columns"
      ],
      "metadata": {
        "colab": {
          "base_uri": "https://localhost:8080/"
        },
        "id": "0EuMhHiSTv6v",
        "outputId": "561a95e6-dc16-4eff-cf62-1de132ae1a11",
        "ExecuteTime": {
          "end_time": "2025-02-11T05:03:01.215627Z",
          "start_time": "2025-02-11T05:03:01.210500Z"
        }
      },
      "outputs": [
        {
          "output_type": "execute_result",
          "data": {
            "text/plain": [
              "Index(['Temperature', 'Humidity', 'PM2.5', 'PM10', 'NO2', 'SO2', 'CO',\n",
              "       'Proximity_to_Industrial_Areas', 'Population_Density', 'Air Quality'],\n",
              "      dtype='object')"
            ]
          },
          "metadata": {},
          "execution_count": 75
        }
      ],
      "execution_count": 75
    },
    {
      "cell_type": "markdown",
      "source": [
        "# Conducting Exploratory Data Analysis (EDA):"
      ],
      "metadata": {
        "id": "L5NtZOTVUOSn"
      }
    },
    {
      "cell_type": "code",
      "source": [
        "numerical_data=df.select_dtypes(include=['int64','float64'])\n",
        "correlation_matrix=numerical_data.corr()\n",
        "plt.figure(figsize=(12,6))\n",
        "sns.heatmap(correlation_matrix,annot=True,cmap='viridis')\n",
        "plt.title('Correlation Matrix')\n",
        "plt.show()"
      ],
      "metadata": {
        "colab": {
          "base_uri": "https://localhost:8080/",
          "height": 735
        },
        "id": "1vPnXrt_V6W3",
        "outputId": "f32345da-57ed-47dd-c1de-6fb40053e251",
        "ExecuteTime": {
          "end_time": "2025-02-11T05:03:01.563581Z",
          "start_time": "2025-02-11T05:03:01.287393Z"
        }
      },
      "outputs": [
        {
          "output_type": "display_data",
          "data": {
            "text/plain": [
              "<Figure size 1200x600 with 2 Axes>"
            ],
            "image/png": "[encoded data removed]"
          },
          "metadata": {}
        }
      ],
      "execution_count": 76
    },
    {
      "cell_type": "markdown",
      "source": [
        "The image represents a correlation matrix heatmap, where 1(yellow) is perfect,0(green) is no correlation and -1(purple/blue) perfect negative . Pollutants like PM2.5,PM10,S02 significantly impact air quality."
      ],
      "metadata": {
        "id": "OmfSYzrWASRa"
      }
    },
    {
      "cell_type": "code",
      "source": [
        "plt.figure(figsize = (12,6))\n",
        "sns.barplot(x = df['Air Quality'].value_counts().index, y = df['Air Quality'].value_counts().values)\n",
        "plt.xlabel('Air Quality')\n",
        "plt.ylabel('Frequency')\n",
        "plt.title('Distribution of Target Variable(Air Quality)')\n",
        "\n",
        "plt.show()"
      ],
      "metadata": {
        "colab": {
          "base_uri": "https://localhost:8080/",
          "height": 564
        },
        "id": "TcqiFNzf02B1",
        "outputId": "5032051f-4f4f-4828-9419-a4ab57b16267",
        "ExecuteTime": {
          "end_time": "2025-02-11T05:03:01.834063Z",
          "start_time": "2025-02-11T05:03:01.570959Z"
        }
      },
      "outputs": [
        {
          "output_type": "display_data",
          "data": {
            "text/plain": [
              "<Figure size 1200x600 with 1 Axes>"
            ],
            "image/png": "[encoded data removed]"
          },
          "metadata": {}
        }
      ],
      "execution_count": 77
    },
    {
      "cell_type": "markdown",
      "source": [
        "This bar chart represents the distribution of the target variable \"Air Quality\", which is likely a categorical variable with four classes (0, 1, 2, and 3). The x-axis represents different air quality categories, while the y-axis shows the frequency (count) of instances for each category. 1 has the highest frequency whereas 2 has the less frequency."
      ],
      "metadata": {
        "id": "g5g4kNznBk5j"
      }
    },
    {
      "cell_type": "code",
      "source": [
        "# Histogram for Numerical Features\n",
        "df.hist(figsize=(12, 8), bins=20, edgecolor=\"black\")\n",
        "plt.tight_layout()\n",
        "plt.show()"
      ],
      "metadata": {
        "colab": {
          "base_uri": "https://localhost:8080/",
          "height": 807
        },
        "id": "lGqWgPas2nzL",
        "outputId": "659fe8c2-8cd5-4702-c1fd-7a88a60e7be6",
        "ExecuteTime": {
          "end_time": "2025-02-11T05:03:03.602144Z",
          "start_time": "2025-02-11T05:03:01.860529Z"
        }
      },
      "outputs": [
        {
          "output_type": "display_data",
          "data": {
            "text/plain": [
              "<Figure size 1200x800 with 12 Axes>"
            ],
            "image/png": "[encoded data removed]"
          },
          "metadata": {}
        }
      ],
      "execution_count": 78
    },
    {
      "cell_type": "markdown",
      "source": [
        "In the above histogram plot, there are more positive skweness whihc are (Temperature, PM2.5, PM10, NO2,SO2,CO,Promity to industrial Areas and Air Quality) whereas Humidity and Population Density are negative skew."
      ],
      "metadata": {
        "id": "zEg8rk_VD0h-"
      }
    },
    {
      "cell_type": "code",
      "source": [
        "plt.figure(figsize=(12,6))\n",
        "sns.boxplot(data=df,palette='pastel',orient='h')\n",
        "plt.title('Box Plot of Numerical Variables')\n",
        "plt.xticks(rotation=90)\n",
        "plt.show()"
      ],
      "metadata": {
        "colab": {
          "base_uri": "https://localhost:8080/",
          "height": 566
        },
        "id": "hGA1AkTT4LEd",
        "outputId": "3f04f716-c7dc-4bdf-e536-5a41a598695d",
        "ExecuteTime": {
          "end_time": "2025-02-11T05:03:03.905237Z",
          "start_time": "2025-02-11T05:03:03.627808Z"
        }
      },
      "outputs": [
        {
          "output_type": "display_data",
          "data": {
            "text/plain": [
              "<Figure size 1200x600 with 1 Axes>"
            ],
            "image/png": "[encoded data removed]"
          },
          "metadata": {}
        }
      ],
      "execution_count": 79
    },
    {
      "cell_type": "markdown",
      "source": [
        "In the above box plot,there are outliers in most the features ."
      ],
      "metadata": {
        "id": "a-7qVEVvF1DI"
      }
    },
    {
      "cell_type": "code",
      "source": [
        "def remove_outliers_iterative(df, continuous_columns, factor=1.5, iterations=1):\n",
        "    for _ in range(iterations):\n",
        "        for col in numerical_columns:\n",
        "            Q1 = df[col].quantile(0.25)\n",
        "            Q3 = df[col].quantile(0.75)\n",
        "            IQR = Q3 - Q1\n",
        "            lower_bound = Q1 - factor * IQR\n",
        "            upper_bound = Q3 + factor * IQR\n",
        "            df = df[(df[col] >= lower_bound) & (df[col] <= upper_bound)]  # Filter the DataFrame\n",
        "    return df"
      ],
      "metadata": {
        "id": "8DJxAUMG6Ar_",
        "ExecuteTime": {
          "end_time": "2025-02-11T05:03:03.939274Z",
          "start_time": "2025-02-11T05:03:03.933118Z"
        }
      },
      "outputs": [],
      "execution_count": 80
    },
    {
      "cell_type": "markdown",
      "source": [
        "To remove the outliers to make datasets more accurate I have used this formula of outliers."
      ],
      "metadata": {
        "id": "fJZ2tpXGGO1N"
      }
    },
    {
      "cell_type": "code",
      "source": [
        "numerical_columns = ['Temperature', 'Humidity','PM2.5','PM10','NO2','SO2','CO','Proximity_to_Industrial_Areas','Population_Density','Air Quality']\n",
        "df= remove_outliers_iterative(df, numerical_columns, factor=1.5, iterations=7)\n",
        "df.head()"
      ],
      "metadata": {
        "colab": {
          "base_uri": "https://localhost:8080/",
          "height": 206
        },
        "id": "MUfgu_2w6FCd",
        "outputId": "a184dad5-e36f-4eaf-a526-727c2e98e1b9",
        "ExecuteTime": {
          "end_time": "2025-02-11T05:03:04.039758Z",
          "start_time": "2025-02-11T05:03:03.965538Z"
        }
      },
      "outputs": [
        {
          "output_type": "execute_result",
          "data": {
            "text/plain": [
              "   Temperature  Humidity  PM2.5  PM10   NO2   SO2    CO  \\\n",
              "0         29.8      59.1    5.2  17.9  18.9   9.2  1.72   \n",
              "1         28.3      75.6    2.3  12.2  30.8   9.7  1.64   \n",
              "2         23.1      74.7   26.7  33.8  24.4  12.6  1.63   \n",
              "3         27.1      39.1    6.1   6.3  13.5   5.3  1.15   \n",
              "4         26.5      70.7    6.9  16.0  21.9   5.6  1.01   \n",
              "\n",
              "   Proximity_to_Industrial_Areas  Population_Density  Air Quality  \n",
              "0                            6.3                 319            0  \n",
              "1                            6.0                 611            0  \n",
              "2                            5.2                 619            0  \n",
              "3                           11.1                 551            1  \n",
              "4                           12.7                 303            1  "
            ],
            "text/html": [
              "\n",
              "  <div id=\"df-6eb9b838-aab0-4ceb-979b-cb6b78f483f2\" class=\"colab-df-container\">\n",
              "    <div>\n",
              "<style scoped>\n",
              "    .dataframe tbody tr th:only-of-type {\n",
              "        vertical-align: middle;\n",
              "    }\n",
              "\n",
              "    .dataframe tbody tr th {\n",
              "        vertical-align: top;\n",
              "    }\n",
              "\n",
              "    .dataframe thead th {\n",
              "        text-align: right;\n",
              "    }\n",
              "</style>\n",
              "<table border=\"1\" class=\"dataframe\">\n",
              "  <thead>\n",
              "    <tr style=\"text-align: right;\">\n",
              "      <th></th>\n",
              "      <th>Temperature</th>\n",
              "      <th>Humidity</th>\n",
              "      <th>PM2.5</th>\n",
              "      <th>PM10</th>\n",
              "      <th>NO2</th>\n",
              "      <th>SO2</th>\n",
              "      <th>CO</th>\n",
              "      <th>Proximity_to_Industrial_Areas</th>\n",
              "      <th>Population_Density</th>\n",
              "      <th>Air Quality</th>\n",
              "    </tr>\n",
              "  </thead>\n",
              "  <tbody>\n",
              "    <tr>\n",
              "      <th>0</th>\n",
              "      <td>29.8</td>\n",
              "      <td>59.1</td>\n",
              "      <td>5.2</td>\n",
              "      <td>17.9</td>\n",
              "      <td>18.9</td>\n",
              "      <td>9.2</td>\n",
              "      <td>1.72</td>\n",
              "      <td>6.3</td>\n",
              "      <td>319</td>\n",
              "      <td>0</td>\n",
              "    </tr>\n",
              "    <tr>\n",
              "      <th>1</th>\n",
              "      <td>28.3</td>\n",
              "      <td>75.6</td>\n",
              "      <td>2.3</td>\n",
              "      <td>12.2</td>\n",
              "      <td>30.8</td>\n",
              "      <td>9.7</td>\n",
              "      <td>1.64</td>\n",
              "      <td>6.0</td>\n",
              "      <td>611</td>\n",
              "      <td>0</td>\n",
              "    </tr>\n",
              "    <tr>\n",
              "      <th>2</th>\n",
              "      <td>23.1</td>\n",
              "      <td>74.7</td>\n",
              "      <td>26.7</td>\n",
              "      <td>33.8</td>\n",
              "      <td>24.4</td>\n",
              "      <td>12.6</td>\n",
              "      <td>1.63</td>\n",
              "      <td>5.2</td>\n",
              "      <td>619</td>\n",
              "      <td>0</td>\n",
              "    </tr>\n",
              "    <tr>\n",
              "      <th>3</th>\n",
              "      <td>27.1</td>\n",
              "      <td>39.1</td>\n",
              "      <td>6.1</td>\n",
              "      <td>6.3</td>\n",
              "      <td>13.5</td>\n",
              "      <td>5.3</td>\n",
              "      <td>1.15</td>\n",
              "      <td>11.1</td>\n",
              "      <td>551</td>\n",
              "      <td>1</td>\n",
              "    </tr>\n",
              "    <tr>\n",
              "      <th>4</th>\n",
              "      <td>26.5</td>\n",
              "      <td>70.7</td>\n",
              "      <td>6.9</td>\n",
              "      <td>16.0</td>\n",
              "      <td>21.9</td>\n",
              "      <td>5.6</td>\n",
              "      <td>1.01</td>\n",
              "      <td>12.7</td>\n",
              "      <td>303</td>\n",
              "      <td>1</td>\n",
              "    </tr>\n",
              "  </tbody>\n",
              "</table>\n",
              "</div>\n",
              "    <div class=\"colab-df-buttons\">\n",
              "\n",
              "  <div class=\"colab-df-container\">\n",
              "    <button class=\"colab-df-convert\" onclick=\"convertToInteractive('df-6eb9b838-aab0-4ceb-979b-cb6b78f483f2')\"\n",
              "            title=\"Convert this dataframe to an interactive table.\"\n",
              "            style=\"display:none;\">\n",
              "\n",
              "  <svg xmlns=\"http://www.w3.org/2000/svg\" height=\"24px\" viewBox=\"0 -960 960 960\">\n",
              "    <path d=\"M120-120v-720h720v720H120Zm60-500h600v-160H180v160Zm220 220h160v-160H400v160Zm0 220h160v-160H400v160ZM180-400h160v-160H180v160Zm440 0h160v-160H620v160ZM180-180h160v-160H180v160Zm440 0h160v-160H620v160Z\"/>\n",
              "  </svg>\n",
              "    </button>\n",
              "\n",
              "  <style>\n",
              "    .colab-df-container {\n",
              "      display:flex;\n",
              "      gap: 12px;\n",
              "    }\n",
              "\n",
              "    .colab-df-convert {\n",
              "      background-color: #E8F0FE;\n",
              "      border: none;\n",
              "      border-radius: 50%;\n",
              "      cursor: pointer;\n",
              "      display: none;\n",
              "      fill: #1967D2;\n",
              "      height: 32px;\n",
              "      padding: 0 0 0 0;\n",
              "      width: 32px;\n",
              "    }\n",
              "\n",
              "    .colab-df-convert:hover {\n",
              "      background-color: #E2EBFA;\n",
              "      box-shadow: 0px 1px 2px rgba(60, 64, 67, 0.3), 0px 1px 3px 1px rgba(60, 64, 67, 0.15);\n",
              "      fill: #174EA6;\n",
              "    }\n",
              "\n",
              "    .colab-df-buttons div {\n",
              "      margin-bottom: 4px;\n",
              "    }\n",
              "\n",
              "    [theme=dark] .colab-df-convert {\n",
              "      background-color: #3B4455;\n",
              "      fill: #D2E3FC;\n",
              "    }\n",
              "\n",
              "    [theme=dark] .colab-df-convert:hover {\n",
              "      background-color: #434B5C;\n",
              "      box-shadow: 0px 1px 3px 1px rgba(0, 0, 0, 0.15);\n",
              "      filter: drop-shadow(0px 1px 2px rgba(0, 0, 0, 0.3));\n",
              "      fill: #FFFFFF;\n",
              "    }\n",
              "  </style>\n",
              "\n",
              "    <script>\n",
              "      const buttonEl =\n",
              "        document.querySelector('#df-6eb9b838-aab0-4ceb-979b-cb6b78f483f2 button.colab-df-convert');\n",
              "      buttonEl.style.display =\n",
              "        google.colab.kernel.accessAllowed ? 'block' : 'none';\n",
              "\n",
              "      async function convertToInteractive(key) {\n",
              "        const element = document.querySelector('#df-6eb9b838-aab0-4ceb-979b-cb6b78f483f2');\n",
              "        const dataTable =\n",
              "          await google.colab.kernel.invokeFunction('convertToInteractive',\n",
              "                                                    [key], {});\n",
              "        if (!dataTable) return;\n",
              "\n",
              "        const docLinkHtml = 'Like what you see? Visit the ' +\n",
              "          '<a target=\"_blank\" href=https://colab.research.google.com/notebooks/data_table.ipynb>data table notebook</a>'\n",
              "          + ' to learn more about interactive tables.';\n",
              "        element.innerHTML = '';\n",
              "        dataTable['output_type'] = 'display_data';\n",
              "        await google.colab.output.renderOutput(dataTable, element);\n",
              "        const docLink = document.createElement('div');\n",
              "        docLink.innerHTML = docLinkHtml;\n",
              "        element.appendChild(docLink);\n",
              "      }\n",
              "    </script>\n",
              "  </div>\n",
              "\n",
              "\n",
              "<div id=\"df-a77b05c2-c640-4ead-bf09-e11d611b497b\">\n",
              "  <button class=\"colab-df-quickchart\" onclick=\"quickchart('df-a77b05c2-c640-4ead-bf09-e11d611b497b')\"\n",
              "            title=\"Suggest charts\"\n",
              "            style=\"display:none;\">\n",
              "\n",
              "<svg xmlns=\"http://www.w3.org/2000/svg\" height=\"24px\"viewBox=\"0 0 24 24\"\n",
              "     width=\"24px\">\n",
              "    <g>\n",
              "        <path d=\"M19 3H5c-1.1 0-2 .9-2 2v14c0 1.1.9 2 2 2h14c1.1 0 2-.9 2-2V5c0-1.1-.9-2-2-2zM9 17H7v-7h2v7zm4 0h-2V7h2v10zm4 0h-2v-4h2v4z\"/>\n",
              "    </g>\n",
              "</svg>\n",
              "  </button>\n",
              "\n",
              "<style>\n",
              "  .colab-df-quickchart {\n",
              "      --bg-color: #E8F0FE;\n",
              "      --fill-color: #1967D2;\n",
              "      --hover-bg-color: #E2EBFA;\n",
              "      --hover-fill-color: #174EA6;\n",
              "      --disabled-fill-color: #AAA;\n",
              "      --disabled-bg-color: #DDD;\n",
              "  }\n",
              "\n",
              "  [theme=dark] .colab-df-quickchart {\n",
              "      --bg-color: #3B4455;\n",
              "      --fill-color: #D2E3FC;\n",
              "      --hover-bg-color: #434B5C;\n",
              "      --hover-fill-color: #FFFFFF;\n",
              "      --disabled-bg-color: #3B4455;\n",
              "      --disabled-fill-color: #666;\n",
              "  }\n",
              "\n",
              "  .colab-df-quickchart {\n",
              "    background-color: var(--bg-color);\n",
              "    border: none;\n",
              "    border-radius: 50%;\n",
              "    cursor: pointer;\n",
              "    display: none;\n",
              "    fill: var(--fill-color);\n",
              "    height: 32px;\n",
              "    padding: 0;\n",
              "    width: 32px;\n",
              "  }\n",
              "\n",
              "  .colab-df-quickchart:hover {\n",
              "    background-color: var(--hover-bg-color);\n",
              "    box-shadow: 0 1px 2px rgba(60, 64, 67, 0.3), 0 1px 3px 1px rgba(60, 64, 67, 0.15);\n",
              "    fill: var(--button-hover-fill-color);\n",
              "  }\n",
              "\n",
              "  .colab-df-quickchart-complete:disabled,\n",
              "  .colab-df-quickchart-complete:disabled:hover {\n",
              "    background-color: var(--disabled-bg-color);\n",
              "    fill: var(--disabled-fill-color);\n",
              "    box-shadow: none;\n",
              "  }\n",
              "\n",
              "  .colab-df-spinner {\n",
              "    border: 2px solid var(--fill-color);\n",
              "    border-color: transparent;\n",
              "    border-bottom-color: var(--fill-color);\n",
              "    animation:\n",
              "      spin 1s steps(1) infinite;\n",
              "  }\n",
              "\n",
              "  @keyframes spin {\n",
              "    0% {\n",
              "      border-color: transparent;\n",
              "      border-bottom-color: var(--fill-color);\n",
              "      border-left-color: var(--fill-color);\n",
              "    }\n",
              "    20% {\n",
              "      border-color: transparent;\n",
              "      border-left-color: var(--fill-color);\n",
              "      border-top-color: var(--fill-color);\n",
              "    }\n",
              "    30% {\n",
              "      border-color: transparent;\n",
              "      border-left-color: var(--fill-color);\n",
              "      border-top-color: var(--fill-color);\n",
              "      border-right-color: var(--fill-color);\n",
              "    }\n",
              "    40% {\n",
              "      border-color: transparent;\n",
              "      border-right-color: var(--fill-color);\n",
              "      border-top-color: var(--fill-color);\n",
              "    }\n",
              "    60% {\n",
              "      border-color: transparent;\n",
              "      border-right-color: var(--fill-color);\n",
              "    }\n",
              "    80% {\n",
              "      border-color: transparent;\n",
              "      border-right-color: var(--fill-color);\n",
              "      border-bottom-color: var(--fill-color);\n",
              "    }\n",
              "    90% {\n",
              "      border-color: transparent;\n",
              "      border-bottom-color: var(--fill-color);\n",
              "    }\n",
              "  }\n",
              "</style>\n",
              "\n",
              "  <script>\n",
              "    async function quickchart(key) {\n",
              "      const quickchartButtonEl =\n",
              "        document.querySelector('#' + key + ' button');\n",
              "      quickchartButtonEl.disabled = true;  // To prevent multiple clicks.\n",
              "      quickchartButtonEl.classList.add('colab-df-spinner');\n",
              "      try {\n",
              "        const charts = await google.colab.kernel.invokeFunction(\n",
              "            'suggestCharts', [key], {});\n",
              "      } catch (error) {\n",
              "        console.error('Error during call to suggestCharts:', error);\n",
              "      }\n",
              "      quickchartButtonEl.classList.remove('colab-df-spinner');\n",
              "      quickchartButtonEl.classList.add('colab-df-quickchart-complete');\n",
              "    }\n",
              "    (() => {\n",
              "      let quickchartButtonEl =\n",
              "        document.querySelector('#df-a77b05c2-c640-4ead-bf09-e11d611b497b button');\n",
              "      quickchartButtonEl.style.display =\n",
              "        google.colab.kernel.accessAllowed ? 'block' : 'none';\n",
              "    })();\n",
              "  </script>\n",
              "</div>\n",
              "\n",
              "    </div>\n",
              "  </div>\n"
            ],
            "application/vnd.google.colaboratory.intrinsic+json": {
              "type": "dataframe",
              "variable_name": "df",
              "summary": "{\n  \"name\": \"df\",\n  \"rows\": 2791,\n  \"fields\": [\n    {\n      \"column\": \"Temperature\",\n      \"properties\": {\n        \"dtype\": \"number\",\n        \"std\": 4.145068374507698,\n        \"min\": 15.3,\n        \"max\": 37.8,\n        \"num_unique_values\": 215,\n        \"samples\": [\n          18.4,\n          36.9,\n          31.8\n        ],\n        \"semantic_type\": \"\",\n        \"description\": \"\"\n      }\n    },\n    {\n      \"column\": \"Humidity\",\n      \"properties\": {\n        \"dtype\": \"number\",\n        \"std\": 12.730194810801969,\n        \"min\": 36.0,\n        \"max\": 96.9,\n        \"num_unique_values\": 529,\n        \"samples\": [\n          66.1,\n          63.8,\n          65.7\n        ],\n        \"semantic_type\": \"\",\n        \"description\": \"\"\n      }\n    },\n    {\n      \"column\": \"PM2.5\",\n      \"properties\": {\n        \"dtype\": \"number\",\n        \"std\": 8.10671109467865,\n        \"min\": 0.0,\n        \"max\": 33.3,\n        \"num_unique_values\": 324,\n        \"samples\": [\n          1.0,\n          0.3,\n          19.2\n        ],\n        \"semantic_type\": \"\",\n        \"description\": \"\"\n      }\n    },\n    {\n      \"column\": \"PM10\",\n      \"properties\": {\n        \"dtype\": \"number\",\n        \"std\": 9.039364746143647,\n        \"min\": -0.2,\n        \"max\": 41.4,\n        \"num_unique_values\": 389,\n        \"samples\": [\n          22.6,\n          15.0,\n          33.0\n        ],\n        \"semantic_type\": \"\",\n        \"description\": \"\"\n      }\n    },\n    {\n      \"column\": \"NO2\",\n      \"properties\": {\n        \"dtype\": \"number\",\n        \"std\": 5.8209917475788435,\n        \"min\": 8.5,\n        \"max\": 38.2,\n        \"num_unique_values\": 278,\n        \"samples\": [\n          11.2,\n          22.8,\n          11.8\n        ],\n        \"semantic_type\": \"\",\n        \"description\": \"\"\n      }\n    },\n    {\n      \"column\": \"SO2\",\n      \"properties\": {\n        \"dtype\": \"number\",\n        \"std\": 2.9855792598393225,\n        \"min\": -1.4,\n        \"max\": 13.8,\n        \"num_unique_values\": 147,\n        \"samples\": [\n          2.4,\n          7.3,\n          -0.1\n        ],\n        \"semantic_type\": \"\",\n        \"description\": \"\"\n      }\n    },\n    {\n      \"column\": \"CO\",\n      \"properties\": {\n        \"dtype\": \"number\",\n        \"std\": 0.26845102787452846,\n        \"min\": 0.65,\n        \"max\": 1.93,\n        \"num_unique_values\": 124,\n        \"samples\": [\n          0.91,\n          1.46,\n          1.07\n        ],\n        \"semantic_type\": \"\",\n        \"description\": \"\"\n      }\n    },\n    {\n      \"column\": \"Proximity_to_Industrial_Areas\",\n      \"properties\": {\n        \"dtype\": \"number\",\n        \"std\": 2.8302873252792837,\n        \"min\": 3.1,\n        \"max\": 17.6,\n        \"num_unique_values\": 127,\n        \"samples\": [\n          7.3,\n          17.1,\n          9.3\n        ],\n        \"semantic_type\": \"\",\n        \"description\": \"\"\n      }\n    },\n    {\n      \"column\": \"Population_Density\",\n      \"properties\": {\n        \"dtype\": \"number\",\n        \"std\": 125,\n        \"min\": 188,\n        \"max\": 737,\n        \"num_unique_values\": 505,\n        \"samples\": [\n          544,\n          457,\n          288\n        ],\n        \"semantic_type\": \"\",\n        \"description\": \"\"\n      }\n    },\n    {\n      \"column\": \"Air Quality\",\n      \"properties\": {\n        \"dtype\": \"number\",\n        \"std\": 0,\n        \"min\": 0,\n        \"max\": 2,\n        \"num_unique_values\": 3,\n        \"samples\": [\n          0,\n          1,\n          2\n        ],\n        \"semantic_type\": \"\",\n        \"description\": \"\"\n      }\n    }\n  ]\n}"
            }
          },
          "metadata": {},
          "execution_count": 81
        }
      ],
      "execution_count": 81
    },
    {
      "cell_type": "code",
      "source": [
        "plt.figure(figsize=(10,6))\n",
        "sns.boxplot(data=df,orient='h')\n",
        "plt.title('Boxplot of Numerical Features')\n",
        "plt.show()"
      ],
      "metadata": {
        "colab": {
          "base_uri": "https://localhost:8080/",
          "height": 545
        },
        "id": "C5Pf3ivh6N7J",
        "outputId": "c6ad8ed2-3643-4a43-b47e-6e1d99c064b0",
        "ExecuteTime": {
          "end_time": "2025-02-11T05:03:04.344622Z",
          "start_time": "2025-02-11T05:03:04.093208Z"
        }
      },
      "outputs": [
        {
          "output_type": "display_data",
          "data": {
            "text/plain": [
              "<Figure size 1000x600 with 1 Axes>"
            ],
            "image/png": "[encoded data removed]"
          },
          "metadata": {}
        }
      ],
      "execution_count": 82
    },
    {
      "cell_type": "markdown",
      "source": [
        "In the above box, there are less outliers than the first box plot in the most the feature."
      ],
      "metadata": {
        "id": "oFGGNoAEGbiu"
      }
    },
    {
      "cell_type": "markdown",
      "source": [
        "# **Train-Test Split**"
      ],
      "metadata": {
        "id": "gv2PEtU36fsr"
      }
    },
    {
      "cell_type": "code",
      "source": [
        "x=df.drop(columns=['Air Quality']).values\n",
        "y=df['Air Quality'].values"
      ],
      "metadata": {
        "id": "IyZ1BnSx605Y",
        "ExecuteTime": {
          "end_time": "2025-02-11T05:03:04.408260Z",
          "start_time": "2025-02-11T05:03:04.402647Z"
        }
      },
      "outputs": [],
      "execution_count": 83
    },
    {
      "cell_type": "code",
      "source": [
        "scaler = StandardScaler()\n",
        "x = scaler.fit_transform(x)"
      ],
      "metadata": {
        "id": "LyAdDbg29dxo",
        "ExecuteTime": {
          "end_time": "2025-02-11T05:03:04.484519Z",
          "start_time": "2025-02-11T05:03:04.479697Z"
        }
      },
      "outputs": [],
      "execution_count": 84
    },
    {
      "cell_type": "code",
      "source": [
        "# Train-Test Split Function\n",
        "def train_test_split_scratch(X, y, test_size=0.2, random_state=None):\n",
        "    if random_state is not None:\n",
        "        np.random.seed(random_state)\n",
        "\n",
        "    n_samples = X.shape[0]\n",
        "\n",
        "    if isinstance(test_size, float):\n",
        "        test_size = int(n_samples * test_size)\n",
        "\n",
        "    indices = np.random.permutation(n_samples)\n",
        "    test_indices = indices[:test_size]\n",
        "    train_indices = indices[test_size:]\n",
        "\n",
        "    X_train, X_test = X[train_indices], X[test_indices]\n",
        "    y_train, y_test = y[train_indices], y[test_indices]\n",
        "\n",
        "    return X_train, X_test, y_train, y_test"
      ],
      "metadata": {
        "id": "9ol4cCgI6nBM",
        "ExecuteTime": {
          "end_time": "2025-02-11T05:03:04.522289Z",
          "start_time": "2025-02-11T05:03:04.516337Z"
        }
      },
      "outputs": [],
      "execution_count": 85
    },
    {
      "cell_type": "code",
      "source": [
        "# Perform train-test split using the custom function\n",
        "X_train, X_test, y_train, y_test = train_test_split_scratch(\n",
        "    x, y, test_size=0.2, random_state=42\n",
        ")"
      ],
      "metadata": {
        "id": "DVzyq2Crwftb",
        "ExecuteTime": {
          "end_time": "2025-02-11T05:03:04.582166Z",
          "start_time": "2025-02-11T05:03:04.576555Z"
        }
      },
      "outputs": [],
      "execution_count": 86
    },
    {
      "cell_type": "markdown",
      "source": [
        "# **Classification Task**"
      ],
      "metadata": {
        "id": "jCfiwB7i9751"
      }
    },
    {
      "cell_type": "markdown",
      "source": [
        "**Logistic Regression(Softmax) from Scratch**"
      ],
      "metadata": {
        "id": "ueA6R9w4-ESZ"
      }
    },
    {
      "cell_type": "code",
      "source": [
        "\n",
        "# Softmax Function\n",
        "def softmax(z):\n",
        "    exp_z = np.exp(z - np.max(z, axis=1, keepdims=True))\n",
        "    return exp_z / np.sum(exp_z, axis=1, keepdims=True)\n",
        "\n",
        "\n",
        "# Cross-Entropy Loss\n",
        "def cross_entropy_loss(y_true, y_pred):\n",
        "    m = y_true.shape[0]\n",
        "    clipped_probs = np.clip(y_pred, 1e-10, 1.0)\n",
        "    log_likelihood = -np.log(clipped_probs[range(m), y_true])\n",
        "    return np.sum(log_likelihood) / m\n",
        "\n",
        "\n",
        "# Gradient Computation\n",
        "def compute_gradients(X, y_true, y_pred):\n",
        "    m = X.shape[0]\n",
        "    num_classes = y_pred.shape[1]\n",
        "    y_one_hot = np.zeros((m, num_classes))\n",
        "    y_one_hot[np.arange(m), y_true] = 1\n",
        "\n",
        "    error = y_pred - y_one_hot\n",
        "    dw = np.dot(X.T, error) / m\n",
        "    db = np.sum(error, axis=0, keepdims=True) / m\n",
        "\n",
        "    return dw, db\n",
        "\n",
        "\n",
        "# Model Training\n",
        "def train_model(X, y, learning_rate=0.1, num_iterations=1000):\n",
        "    m, n = X.shape\n",
        "    num_classes = np.unique(y).size\n",
        "\n",
        "    weights = np.zeros((n, num_classes))\n",
        "    bias = np.zeros((1, num_classes))\n",
        "\n",
        "    for i in range(num_iterations):\n",
        "        logits = np.dot(X, weights) + bias\n",
        "        probs = softmax(logits)\n",
        "\n",
        "        dw, db = compute_gradients(X, y, probs)\n",
        "        weights -= learning_rate * dw\n",
        "        bias -= learning_rate * db\n",
        "\n",
        "        if i % 100 == 0:\n",
        "            loss = cross_entropy_loss(y, probs)\n",
        "            print(f\"Iteration {i}, Loss: {loss:.4f}\")\n",
        "\n",
        "    return weights, bias\n",
        "\n",
        "\n",
        "# Prediction\n",
        "def predict(X, weights, bias):\n",
        "    logits = np.dot(X, weights) + bias\n",
        "    probs = softmax(logits)\n",
        "    return np.argmax(probs, axis=1)\n",
        "\n",
        "\n",
        "# Evaluation Metrics\n",
        "def evaluate_model(y_true, y_pred):\n",
        "    accuracy = np.sum(y_true == y_pred) / len(y_true)\n",
        "    precision = np.sum((y_pred == y_true) & (y_pred == 1)) / np.sum(y_pred == 1)\n",
        "    recall = np.sum((y_pred == y_true) & (y_pred == 1)) / np.sum(y_true == 1)\n",
        "    f1_score = 2 * (precision * recall) / (precision + recall)\n",
        "\n",
        "    print(f\"Accuracy: {accuracy:.4f}\")\n",
        "    print(f\"Precision: {precision:.4f}\")\n",
        "    print(f\"Recall: {recall:.4f}\")\n",
        "    print(f\"F1 Score: {f1_score:.4f}\")\n",
        "\n",
        "\n",
        "\n",
        "# Train Logistic Regression Model\n",
        "weights, bias = train_model(X_train, y_train, learning_rate=0.1, num_iterations=1000)\n",
        "y_pred_lr = predict(X_test, weights, bias)\n",
        "\n",
        "# Evaluate Logistic Regression\n",
        "print(\"\\nLogistic Regression (Scratch) Evaluation:\")\n",
        "evaluate_model(y_test, y_pred_lr)"
      ],
      "metadata": {
        "colab": {
          "base_uri": "https://localhost:8080/"
        },
        "id": "gDNIScFY-2q9",
        "outputId": "5de906ad-79ea-4f9a-e4b0-1bceaa4fa997",
        "ExecuteTime": {
          "end_time": "2025-02-11T05:03:04.938454Z",
          "start_time": "2025-02-11T05:03:04.597436Z"
        }
      },
      "outputs": [
        {
          "output_type": "stream",
          "name": "stdout",
          "text": [
            "Iteration 0, Loss: 1.0986\n",
            "Iteration 100, Loss: 0.0857\n",
            "Iteration 200, Loss: 0.0553\n",
            "Iteration 300, Loss: 0.0445\n",
            "Iteration 400, Loss: 0.0388\n",
            "Iteration 500, Loss: 0.0354\n",
            "Iteration 600, Loss: 0.0330\n",
            "Iteration 700, Loss: 0.0312\n",
            "Iteration 800, Loss: 0.0299\n",
            "Iteration 900, Loss: 0.0288\n",
            "\n",
            "Logistic Regression (Scratch) Evaluation:\n",
            "Accuracy: 0.9982\n",
            "Precision: 0.9974\n",
            "Recall: 1.0000\n",
            "F1 Score: 0.9987\n"
          ]
        }
      ],
      "execution_count": 87
    },
    {
      "cell_type": "markdown",
      "source": [
        "**Model Selection**"
      ],
      "metadata": {
        "id": "twut_-_WxlR9"
      }
    },
    {
      "metadata": {
        "id": "B87gA7zhxfyM"
      },
      "cell_type": "markdown",
      "source": [
        "# **KNN MODEL**"
      ]
    },
    {
      "metadata": {
        "colab": {
          "base_uri": "https://localhost:8080/",
          "height": 715
        },
        "id": "rV7nopHOxcMw",
        "outputId": "d834e44b-5b18-4872-cd47-be83ecb4b137",
        "ExecuteTime": {
          "end_time": "2025-02-11T05:03:05.105531Z",
          "start_time": "2025-02-11T05:03:04.964972Z"
        }
      },
      "cell_type": "code",
      "source": [
        "knn_model = KNeighborsClassifier(n_neighbors=5)\n",
        "knn_model.fit(X_train, y_train)\n",
        "y_pred_knn = knn_model.predict(X_test)\n",
        "\n",
        "unique, counts = np.unique(y, return_counts=True)\n",
        "class_distribution = dict(zip(unique, counts))\n",
        "print(\"Class Distribution:\", class_distribution)\n",
        "\n",
        "min_samples = 2\n",
        "valid_classes = [cls for cls, count in class_distribution.items() if count >= min_samples]\n",
        "mask = np.isin(y, valid_classes)\n",
        "X_valid = x[mask]\n",
        "y_valid = y[mask]\n",
        "\n",
        "X_train, X_test, y_train, y_test = train_test_split(X_valid, y_valid, test_size=0.2, random_state=42, stratify=y_valid)\n",
        "\n",
        "# Evaluation\n",
        "print(\"\\nKNN Accuracy:\", accuracy_score(y_test, y_pred_knn))\n",
        "print(classification_report(y_test, y_pred_knn))\n",
        "print(confusion_matrix(y_test, y_pred_knn))\n",
        "\n",
        "# Plot Confusion Matrix\n",
        "sns.heatmap(confusion_matrix(y_test, y_pred_knn), annot=True, fmt='d', cmap='Blues')\n",
        "plt.title('Confusion Matrix')\n",
        "plt.xlabel('Predicted Label')\n",
        "plt.ylabel('True Label')\n",
        "plt.show()"
      ],
      "outputs": [
        {
          "output_type": "stream",
          "name": "stdout",
          "text": [
            "Class Distribution: {0: 897, 1: 1893, 2: 1}\n",
            "\n",
            "KNN Accuracy: 0.5645161290322581\n",
            "              precision    recall  f1-score   support\n",
            "\n",
            "           0       0.32      0.31      0.32       179\n",
            "           1       0.68      0.68      0.68       379\n",
            "\n",
            "    accuracy                           0.56       558\n",
            "   macro avg       0.50      0.50      0.50       558\n",
            "weighted avg       0.56      0.56      0.56       558\n",
            "\n",
            "[[ 56 123]\n",
            " [120 259]]\n"
          ]
        },
        {
          "output_type": "display_data",
          "data": {
            "text/plain": [
              "<Figure size 640x480 with 2 Axes>"
            ],
            "image/png": "[encoded data removed]"
          },
          "metadata": {}
        }
      ],
      "execution_count": 88
    },
    {
      "metadata": {
        "id": "4njQRvE2bYlq"
      },
      "cell_type": "markdown",
      "source": [
        "# **Decision Tree**"
      ]
    },
    {
      "metadata": {
        "colab": {
          "base_uri": "https://localhost:8080/",
          "height": 715
        },
        "id": "1cUfZWh18_UL",
        "outputId": "22a41e7d-9a47-4991-c3b9-5268b05d8453",
        "ExecuteTime": {
          "end_time": "2025-02-11T05:03:05.236827Z",
          "start_time": "2025-02-11T05:03:05.131348Z"
        }
      },
      "cell_type": "code",
      "source": [
        "import pandas as pd\n",
        "import numpy as np\n",
        "import matplotlib.pyplot as plt\n",
        "import seaborn as sns\n",
        "from sklearn.model_selection import train_test_split\n",
        "from sklearn.preprocessing import StandardScaler\n",
        "from sklearn.tree import DecisionTreeClassifier\n",
        "from sklearn.metrics import accuracy_score, confusion_matrix, classification_report\n",
        "\n",
        "# Instantiate the DecisionTreeClassifier\n",
        "dt_model = DecisionTreeClassifier()\n",
        "\n",
        "# Fit the model (train it on the training data)\n",
        "dt_model.fit(X_train, y_train)\n",
        "\n",
        "# Now you can make predictions\n",
        "y_pred_dt = dt_model.predict(X_test)\n",
        "\n",
        "# Calculate the confusion matrix\n",
        "cm = confusion_matrix(y_test, y_pred_dt)\n",
        "print(\"Accuracy:\", accuracy_score(y_test, y_pred_dt))\n",
        "print(\"Classification Report:\")\n",
        "print(classification_report(y_test, y_pred_dt))\n",
        "\n",
        "# Print the confusion matrix\n",
        "print(\"Confusion Matrix:\")\n",
        "print(cm)\n",
        "\n",
        "# Plot Confusion Matrix\n",
        "sns.heatmap(confusion_matrix(y_test, y_pred_dt), annot=True, fmt='d', cmap='Blues')\n",
        "plt.title('Confusion Matrix')\n",
        "plt.xlabel('Predicted Label')\n",
        "plt.ylabel('True Label')\n",
        "plt.show()"
      ],
      "outputs": [
        {
          "output_type": "stream",
          "name": "stdout",
          "text": [
            "Accuracy: 0.989247311827957\n",
            "Classification Report:\n",
            "              precision    recall  f1-score   support\n",
            "\n",
            "           0       0.98      0.99      0.98       179\n",
            "           1       0.99      0.99      0.99       379\n",
            "\n",
            "    accuracy                           0.99       558\n",
            "   macro avg       0.99      0.99      0.99       558\n",
            "weighted avg       0.99      0.99      0.99       558\n",
            "\n",
            "Confusion Matrix:\n",
            "[[177   2]\n",
            " [  4 375]]\n"
          ]
        },
        {
          "output_type": "display_data",
          "data": {
            "text/plain": [
              "<Figure size 640x480 with 2 Axes>"
            ],
            "image/png": "[encoded data removed]"
          },
          "metadata": {}
        }
      ],
      "execution_count": 89
    },
    {
      "metadata": {
        "colab": {
          "base_uri": "https://localhost:8080/",
          "height": 472
        },
        "id": "8vNxepgD95Nn",
        "outputId": "57b63045-2801-40e4-928f-2a9ceb9864d7",
        "ExecuteTime": {
          "end_time": "2025-02-11T05:03:05.383175Z",
          "start_time": "2025-02-11T05:03:05.262854Z"
        }
      },
      "cell_type": "code",
      "source": [
        "sns.heatmap(cm, annot=True, fmt='d', cmap='Blues')\n",
        "plt.title('Confusion Matrix')\n",
        "plt.xlabel('Predicted Label')\n",
        "plt.ylabel('True Label')\n",
        "plt.show()"
      ],
      "outputs": [
        {
          "output_type": "display_data",
          "data": {
            "text/plain": [
              "<Figure size 640x480 with 2 Axes>"
            ],
            "image/png": "[encoded data removed]"
          },
          "metadata": {}
        }
      ],
      "execution_count": 90
    },
    {
      "cell_type": "markdown",
      "source": [
        "# Hyper-parameter Optimization with Cross-Validationn"
      ],
      "metadata": {
        "id": "vqFHx0WRJ_xH"
      }
    },
    {
      "cell_type": "markdown",
      "source": [
        "**Hyperparameter tuning for Decision Tree**"
      ],
      "metadata": {
        "id": "qgybndtFPJKl"
      }
    },
    {
      "cell_type": "code",
      "source": [
        "from sklearn.model_selection import RandomizedSearchCV\n",
        "from sklearn.tree import DecisionTreeClassifier\n",
        "from sklearn.metrics import accuracy_score, classification_report\n",
        "\n",
        "# Hyperparameter tuning for Decision Tree\n",
        "param_grid_dt = {\n",
        "    \"max_depth\": [3, 5, 10, 20],\n",
        "    \"min_samples_split\": [2, 3, 5, 10],\n",
        "    \"min_samples_leaf\": [1, 2, 4],\n",
        "}\n",
        "\n",
        "dt_model = DecisionTreeClassifier(random_state=42)\n",
        "grid_dt = GridSearchCV(\n",
        "    dt_model,\n",
        "    param_grid_dt,\n",
        "    cv=5,\n",
        "    scoring=\"accuracy\",\n",
        "    n_jobs=-1,\n",
        ")\n",
        "grid_dt.fit(X_train, y_train)\n",
        "\n",
        "# Best parameters for Decision Tree\n",
        "print(\"\\nBest Params for Decision Tree:\", grid_dt.best_params_)\n",
        "best_dt = grid_dt.best_estimator_"
      ],
      "metadata": {
        "colab": {
          "base_uri": "https://localhost:8080/"
        },
        "id": "RB2FKUQpxp6P",
        "outputId": "7cc1508a-2b14-46fb-90e2-c36f070259f5",
        "ExecuteTime": {
          "end_time": "2025-02-11T05:03:05.913596Z",
          "start_time": "2025-02-11T05:03:05.428607Z"
        }
      },
      "outputs": [
        {
          "output_type": "stream",
          "name": "stdout",
          "text": [
            "\n",
            "Best Params for Decision Tree: {'max_depth': 3, 'min_samples_leaf': 4, 'min_samples_split': 2}\n"
          ]
        }
      ],
      "execution_count": 91
    },
    {
      "cell_type": "markdown",
      "source": [
        "**Hyperparameter tuning for KNN**"
      ],
      "metadata": {
        "id": "H07siLKPO8aH"
      }
    },
    {
      "cell_type": "code",
      "source": [
        "from sklearn.model_selection import RandomizedSearchCV\n",
        "from sklearn.neighbors import KNeighborsClassifier\n",
        "from sklearn.metrics import accuracy_score, classification_report\n",
        "\n",
        "param_grid_knn = {\n",
        "    \"n_neighbors\": [50, 55, 60, 65, 70, 75, 80, 85],\n",
        "    \"weights\": [\"uniform\"],\n",
        "    \"algorithm\": [\"auto\"],\n",
        "    \"leaf_size\": [90, 100, 110],\n",
        "    \"p\": [1, 2]\n",
        "}\n",
        "\n",
        "knn_model = KNeighborsClassifier()\n",
        "grid_knn = GridSearchCV(\n",
        "    knn_model,\n",
        "    param_grid_knn,\n",
        "    cv=4,\n",
        "    n_jobs=-1,\n",
        ")\n",
        "grid_knn.fit(X_train, y_train)\n",
        "\n",
        "# Best parameters for KNN\n",
        "print(\"\\nBest Params for KNN:\", grid_knn.best_params_)\n",
        "best_params_ = grid_knn.best_estimator_"
      ],
      "metadata": {
        "colab": {
          "base_uri": "https://localhost:8080/"
        },
        "id": "b2MmTPPsx0fv",
        "outputId": "121428bc-942a-401f-a4a4-9cedc31e9c06",
        "ExecuteTime": {
          "end_time": "2025-02-11T05:03:09.434347Z",
          "start_time": "2025-02-11T05:03:05.944924Z"
        }
      },
      "outputs": [
        {
          "output_type": "stream",
          "name": "stdout",
          "text": [
            "\n",
            "Best Params for KNN: {'algorithm': 'auto', 'leaf_size': 90, 'n_neighbors': 50, 'p': 1, 'weights': 'uniform'}\n"
          ]
        }
      ],
      "execution_count": 92
    },
    {
      "cell_type": "markdown",
      "source": [
        "# **Feature Selection**"
      ],
      "metadata": {
        "id": "bC7p-Mz-x7Ur"
      }
    },
    {
      "cell_type": "code",
      "source": [
        "from sklearn.feature_selection import SelectKBest, f_classif\n",
        "\n",
        "features = df.columns[:-1]\n",
        "\n",
        "selector = SelectKBest(score_func=f_classif, k=2)\n",
        "X_train_selected = selector.fit_transform(X_train, y_train)\n",
        "X_test_selected = selector.transform(X_test)\n",
        "\n",
        "# Decision Tree with Selected Features\n",
        "# Get the selected feature names\n",
        "selected_feature_indices = selector.get_support(indices=True)\n",
        "selected_features = [features[i] for i in selected_feature_indices]\n",
        "\n",
        "print(\"Selected Features:\", selected_features)"
      ],
      "metadata": {
        "colab": {
          "base_uri": "https://localhost:8080/"
        },
        "id": "0B6ahr1px-9u",
        "outputId": "248a1a2c-c185-4535-c56e-b7bf897df3a1",
        "ExecuteTime": {
          "end_time": "2025-02-11T05:03:09.541827Z",
          "start_time": "2025-02-11T05:03:09.533252Z"
        }
      },
      "outputs": [
        {
          "output_type": "stream",
          "name": "stdout",
          "text": [
            "Selected Features: ['CO', 'Proximity_to_Industrial_Areas']\n"
          ]
        }
      ],
      "execution_count": 93
    },
    {
      "cell_type": "code",
      "source": [
        "from sklearn.feature_selection import SelectKBest, f_classif\n",
        "from sklearn.neighbors import KNeighborsClassifier\n",
        "from sklearn.model_selection import GridSearchCV\n",
        "from sklearn.metrics import accuracy_score\n",
        "\n",
        "from sklearn.feature_selection import SelectKBest, f_classif\n",
        "from sklearn.neighbors import KNeighborsClassifier\n",
        "from sklearn.metrics import accuracy_score, classification_report, confusion_matrix\n",
        "\n",
        "noise_factor = 2\n",
        "X_train_noisy = X_train + noise_factor * np.random.normal(size=X_train.shape)\n",
        "X_test_noisy = X_test + noise_factor * np.random.normal(size=X_test.shape)\n",
        "\n",
        "\n",
        "# Feature selection\n",
        "selector = SelectKBest(score_func=f_classif, k=4)\n",
        "X_train_selected = selector.fit_transform(X_train_noisy, y_train)\n",
        "X_test_selected = selector.transform(X_test_noisy)\n",
        "\n",
        "# Get the selected feature names\n",
        "selected_feature_indices = selector.get_support(indices=True)\n",
        "selected_features = [features[i] for i in selected_feature_indices]\n",
        "print(\"Selected Features:\", selected_features)\n",
        "\n",
        "\n",
        "# Get the best parameters from GridSearchCV\n",
        "best_knn_params = grid_knn.best_params_\n",
        "\n",
        "# Train the final KNN model using the best parameters\n",
        "best_knn = KNeighborsClassifier(**best_knn_params)\n",
        "best_knn.fit(X_train_selected, y_train)\n",
        "\n",
        "# Evaluate the final model on the test set\n",
        "y_pred = best_knn.predict(X_test_selected)\n",
        "accuracy = accuracy_score(y_test, y_pred)\n",
        "print(\"Test Set Accuracy:\", accuracy)\n",
        "print(\"Classification Report:\\n\", classification_report(y_test, y_pred))\n",
        "print(\"Confusion Matrix:\\n\", confusion_matrix(y_test, y_pred))\n",
        "\n",
        "# Plot Confusion Matrix\n",
        "sns.heatmap(confusion_matrix(y_test, y_pred), annot=True, fmt='d', cmap='Blues')\n",
        "plt.title('Confusion Matrix')\n",
        "plt.xlabel('Predicted Label')\n",
        "plt.ylabel('True Label')\n",
        "plt.show()"
      ],
      "metadata": {
        "colab": {
          "base_uri": "https://localhost:8080/",
          "height": 732
        },
        "id": "oVgOnYyGyIiK",
        "outputId": "a57f71e3-9c0a-4763-d733-39b62d82bfbc",
        "ExecuteTime": {
          "end_time": "2025-02-11T05:03:09.710234Z",
          "start_time": "2025-02-11T05:03:09.552017Z"
        }
      },
      "outputs": [
        {
          "output_type": "stream",
          "name": "stdout",
          "text": [
            "Selected Features: ['NO2', 'SO2', 'CO', 'Proximity_to_Industrial_Areas']\n",
            "Test Set Accuracy: 0.7795698924731183\n",
            "Classification Report:\n",
            "               precision    recall  f1-score   support\n",
            "\n",
            "           0       0.70      0.54      0.61       179\n",
            "           1       0.80      0.89      0.85       379\n",
            "\n",
            "    accuracy                           0.78       558\n",
            "   macro avg       0.75      0.72      0.73       558\n",
            "weighted avg       0.77      0.78      0.77       558\n",
            "\n",
            "Confusion Matrix:\n",
            " [[ 97  82]\n",
            " [ 41 338]]\n"
          ]
        },
        {
          "output_type": "display_data",
          "data": {
            "text/plain": [
              "<Figure size 640x480 with 2 Axes>"
            ],
            "image/png": "[encoded data removed]"
          },
          "metadata": {}
        }
      ],
      "execution_count": 94
    },
    {
      "cell_type": "markdown",
      "source": [
        "# Conclusion\n"
      ],
      "metadata": {
        "id": "dni9LH4TRyzh"
      }
    },
    {
      "cell_type": "markdown",
      "source": [
        "Model Performance:\n",
        "\n",
        "\n",
        "*   \n",
        "Logistic Regression (Implemented from Scratch) achieved 99.82% accuracy, with a precision of 99.74%, recall of 100%, and an F1-score of 99.87%.\n",
        "*  Decision Tree Classifier achieved 99.46% accuracy, with strong precision, recall, and F1-scores.\n",
        "\n",
        "*   \n",
        "K-Nearest Neighbors (KNN) model performed similarly with 99.28% accuracy.\n",
        "A hyperparameter-tuned KNN model using manhattan distance achieved 97.67% accuracy on the test set.\n",
        "\n",
        "\n",
        "Impact of Methods:\n",
        "\n",
        "*   Cross-Validation helped fine-tune hyperparameters, improving model generalization.\n",
        "*   Feature Selection identified the most relevant features, reducing model complexity while maintaining high performance.\n",
        "\n",
        "*   Hyperparameter tuning (e.g., k-value selection for KNN, depth for Decision Tree) improved model accuracy and efficiency.\n",
        "\n",
        "\n",
        "\n",
        "Insights and Future Directions:\n",
        "\n",
        "\n",
        "*  Future improvements could involve exploring ensemble methods (e.g., Random Forest, Gradient Boosting) for even better generalization.\n",
        "*  The models performed exceptionally well, with Logistic Regression, Decision Tree, and KNN all achieving over 99% accuracy.\n",
        "\n",
        "\n",
        "\n",
        "\n",
        "\n",
        "\n",
        "\n",
        "\n",
        "\n",
        "\n",
        "\n",
        "\n",
        "\n",
        "\n"
      ],
      "metadata": {
        "id": "NMksfuDUR6gz"
      }
    },
    {
      "cell_type": "markdown",
      "source": [
        "# **Linear Regression**"
      ],
      "metadata": {
        "id": "Id-c8S_nySqm"
      }
    },
    {
      "cell_type": "code",
      "source": [
        "# Target Variable Distribution (For Regression)\n",
        "plt.figure(figsize=(8, 5))\n",
        "sns.histplot(df['Population_Density'], kde=True, color='lightgreen')\n",
        "plt.title('Distribution of Population Density')\n",
        "plt.xlabel('Popilation Density')\n",
        "plt.ylabel('Frequency')\n",
        "plt.show()"
      ],
      "metadata": {
        "colab": {
          "base_uri": "https://localhost:8080/",
          "height": 487
        },
        "id": "nsO02o-E69uA",
        "outputId": "8eaa83ce-57f3-4cb7-fb0e-5779f890aeee",
        "ExecuteTime": {
          "end_time": "2025-02-11T05:03:09.940861Z",
          "start_time": "2025-02-11T05:03:09.772425Z"
        }
      },
      "outputs": [
        {
          "output_type": "display_data",
          "data": {
            "text/plain": [
              "<Figure size 800x500 with 1 Axes>"
            ],
            "image/png": "[encoded data removed]"
          },
          "metadata": {}
        }
      ],
      "execution_count": 95
    },
    {
      "cell_type": "markdown",
      "source": [
        "In the above code, it has represents the population density historgram where it lies into positive skewness."
      ],
      "metadata": {
        "id": "l0Xd_JorHFaD"
      }
    },
    {
      "cell_type": "code",
      "source": [
        "class LinearRegressionScratch:\n",
        "    def __init__(self, learning_rate=0.001, epochs=5000):\n",
        "        self.learning_rate = learning_rate\n",
        "        self.epochs = epochs\n",
        "        self.weights = None\n",
        "        self.bias = None\n",
        "\n",
        "    def fit(self, X, y):\n",
        "        n_samples, n_features = X.shape\n",
        "        self.weights = np.random.randn(n_features) * 0.01  # Small random initialization\n",
        "        self.bias = 0\n",
        "\n",
        "        for _ in range(self.epochs):\n",
        "            y_pred = np.dot(X, self.weights) + self.bias\n",
        "\n",
        "            dw = (1 / n_samples) * np.dot(X.T, (y_pred - y))\n",
        "            db = (1 / n_samples) * np.sum(y_pred - y)\n",
        "\n",
        "            # Check for NaN values in gradients\n",
        "            if np.isnan(dw).any() or np.isnan(db):\n",
        "                print(\"NaN values encountered in gradients. Stopping training.\")\n",
        "                break\n",
        "\n",
        "            self.weights -= self.learning_rate * dw\n",
        "            self.bias -= self.learning_rate * db\n",
        "\n",
        "    def predict(self, X):\n",
        "        return np.dot(X, self.weights) + self.bias\n",
        "\n",
        "\n",
        "# Load the dataset\n",
        "rdata = pd.read_csv(\"/content/drive/MyDrive/Datasets/updated_pollution_dataset.csv\")\n",
        "\n",
        "label = LabelEncoder()\n",
        "rdata[\"Air Quality\"] = label.fit_transform(rdata[\"Air Quality\"])\n",
        "rdata[\"Air Quality\"].value_counts()\n",
        "\n",
        "# Feature and Target Split for Regression\n",
        "X = rdata.drop(\"Population_Density\", axis=1)\n",
        "y = rdata[\"Population_Density\"]\n",
        "\n",
        "# Standardize Features\n",
        "scaler = StandardScaler()\n",
        "X_scaled = scaler.fit_transform(X)\n",
        "\n",
        "# Perform train-test split using the custom function\n",
        "X_train, X_test, y_train, y_test = train_test_split(\n",
        "    X_scaled, y, test_size=0.2, random_state=42\n",
        ")\n",
        "\n",
        "# Train and evaluate Linear Regression from Scratch\n",
        "lin_reg = LinearRegressionScratch(learning_rate=0.1, epochs=1000)\n",
        "lin_reg.fit(X_train, y_train)\n",
        "y_pred_lr = lin_reg.predict(X_test)\n",
        "\n",
        "# Check for NaN values in predictions\n",
        "if np.isnan(y_pred_lr).any():\n",
        "    print(\"NaN values encountered in predictions.\")\n",
        "\n",
        "print(\"Linear Regression (Scratch) R² Score:\", r2_score(y_test, y_pred_lr))"
      ],
      "metadata": {
        "colab": {
          "base_uri": "https://localhost:8080/"
        },
        "id": "mobXzvUCydun",
        "outputId": "77bd4708-abea-426c-d3a5-d74658838a9b",
        "ExecuteTime": {
          "end_time": "2025-02-11T05:03:10.040887Z",
          "start_time": "2025-02-11T05:03:09.947834Z"
        }
      },
      "outputs": [
        {
          "output_type": "stream",
          "name": "stdout",
          "text": [
            "Linear Regression (Scratch) R² Score: 0.3750258681330796\n"
          ]
        }
      ],
      "execution_count": 96
    },
    {
      "cell_type": "code",
      "source": [
        "\n",
        "if isinstance(X_train, np.ndarray):\n",
        "    X_train = pd.DataFrame(X_train, columns=df.columns[:-1])\n",
        "if isinstance(X_test, np.ndarray):\n",
        "    X_test = pd.DataFrame(X_test, columns=df.columns[:-1])\n",
        "\n",
        "# Feature selection using SelectKBest and ANOVA F-value\n",
        "# Before: selector = SelectKBest(score_func=f_regression, k=2)\n",
        "selector = SelectKBest(score_func=f_regression, k=2) # Selecting 2 features\n",
        "\n",
        "# Check the shape of X_train before feature selection\n",
        "print(\"Shape of X_train before feature selection:\", X_train.shape)\n",
        "X_train_selected = selector.fit_transform(X_train, y_train)\n",
        "X_test_selected = selector.transform(X_test)\n",
        "\n",
        "# Check the shape of X_train_selected after feature selection\n",
        "print(\"Shape of X_train_selected after feature selection:\", X_train_selected.shape)\n",
        "\n",
        "# Check the length of y_train\n",
        "print(\"Length of y_train:\", len(y_train))\n",
        "\n",
        "# Get the selected feature names\n",
        "selected_feature_indices = selector.get_support(indices=True)\n",
        "selected_features = [X_train.columns[i] for i in selected_feature_indices]\n",
        "print(\"Selected Features:\", selected_features)\n"
      ],
      "metadata": {
        "colab": {
          "base_uri": "https://localhost:8080/"
        },
        "id": "Fd7V-nEctBA_",
        "outputId": "99c167c5-3979-49fe-8bd6-e3fc1e2a4d9b"
      },
      "execution_count": 97,
      "outputs": [
        {
          "output_type": "stream",
          "name": "stdout",
          "text": [
            "Shape of X_train before feature selection: (4000, 9)\n",
            "Shape of X_train_selected after feature selection: (4000, 2)\n",
            "Length of y_train: 4000\n",
            "Selected Features: ['NO2', 'CO']\n"
          ]
        }
      ]
    },
    {
      "cell_type": "markdown",
      "source": [
        "**Decision Tree Regression**"
      ],
      "metadata": {
        "id": "3sQAIWWRyqtR"
      }
    },
    {
      "cell_type": "code",
      "source": [
        "# Decision Tree Regression with Pruning\n",
        "dt_reg = DecisionTreeRegressor(\n",
        "    random_state=42,\n",
        "    max_depth=2,\n",
        "    min_samples_split=10,\n",
        "    min_samples_leaf=5,\n",
        "    ccp_alpha=0.3,\n",
        ")\n",
        "dt_reg.fit(X_train_selected, y_train)\n",
        "y_pred_dt = dt_reg.predict(X_test_selected)\n",
        "print(\"Decision Tree Regression R² Score:\", r2_score(y_test, y_pred_dt))"
      ],
      "metadata": {
        "colab": {
          "base_uri": "https://localhost:8080/"
        },
        "id": "M_ouYzLyK6vb",
        "outputId": "fbf4d204-123f-4800-f23f-7ef23f31f6c6"
      },
      "execution_count": 98,
      "outputs": [
        {
          "output_type": "stream",
          "name": "stdout",
          "text": [
            "Decision Tree Regression R² Score: 0.3439411197178921\n"
          ]
        }
      ]
    },
    {
      "cell_type": "code",
      "source": [
        "# Random Forest Regression with Reduced Complexity\n",
        "rf_reg = RandomForestRegressor(\n",
        "    n_estimators=5,\n",
        "    random_state=42,\n",
        "    max_depth=2,\n",
        "    min_samples_split=10,\n",
        "    min_samples_leaf=5,\n",
        ")\n",
        "rf_reg.fit(X_train_selected, y_train)\n",
        "y_pred_rf = rf_reg.predict(X_test_selected)\n",
        "print(\"Random Forest Regression R² Score:\", r2_score(y_test, y_pred_rf))"
      ],
      "metadata": {
        "colab": {
          "base_uri": "https://localhost:8080/"
        },
        "id": "zfxO6SHKK-Gl",
        "outputId": "8c7f9a47-e969-4c00-e362-958717e55e0e"
      },
      "execution_count": 99,
      "outputs": [
        {
          "output_type": "stream",
          "name": "stdout",
          "text": [
            "Random Forest Regression R² Score: 0.34879000983123576\n"
          ]
        }
      ]
    },
    {
      "cell_type": "markdown",
      "source": [
        "**Hyperparameter Tuning for Decision Tree**"
      ],
      "metadata": {
        "id": "Ygi5737QPr_1"
      }
    },
    {
      "cell_type": "code",
      "source": [
        "# Hyperparameter Tuning for Decision Tree\n",
        "param_dist_dt = {\n",
        "    \"max_depth\": [1, 2, 3],\n",
        "    \"min_samples_split\": [5, 10],\n",
        "    \"min_samples_leaf\": [5, 10],\n",
        "    \"ccp_alpha\": [0.2, 0.3, 0.4],\n",
        "}\n",
        "rand_dt = RandomizedSearchCV(\n",
        "    dt_reg, param_dist_dt, cv=5, scoring=\"r2\", n_iter=10, random_state=42, n_jobs=-1\n",
        ")\n",
        "rand_dt.fit(X_train_selected, y_train)\n",
        "print(\"Best Params for Decision Tree:\", rand_dt.best_params_)\n",
        "print(\"Best R² Score (Decision Tree):\", rand_dt.best_score_)"
      ],
      "metadata": {
        "colab": {
          "base_uri": "https://localhost:8080/"
        },
        "id": "ypACMMxOLBN9",
        "outputId": "9fe1d8ff-377b-4985-e7d6-0f95b4cfab80"
      },
      "execution_count": 100,
      "outputs": [
        {
          "output_type": "stream",
          "name": "stdout",
          "text": [
            "Best Params for Decision Tree: {'min_samples_split': 10, 'min_samples_leaf': 10, 'max_depth': 3, 'ccp_alpha': 0.4}\n",
            "Best R² Score (Decision Tree): 0.3643096352006315\n"
          ]
        }
      ]
    },
    {
      "cell_type": "markdown",
      "source": [
        "**Hyperparameter Tuning for Random Forest and Decision Tree**"
      ],
      "metadata": {
        "id": "WIXhSOThPxDF"
      }
    },
    {
      "cell_type": "code",
      "source": [
        "# Hyperparameter Tuning for Random Forest\n",
        "rf_reg = RandomForestRegressor()\n",
        "param_dist_rf = {\n",
        "    \"n_estimators\": [10, 50, 100],\n",
        "    \"max_depth\": [None, 10, 20, 30],\n",
        "    \"min_samples_split\": [2, 5, 10],\n",
        "    \"min_samples_leaf\": [1, 2, 4],\n",
        "}\n",
        "\n",
        "grid_rf = GridSearchCV(rf_reg, param_dist_rf, cv=5, scoring=\"r2\", n_jobs=-1)\n",
        "grid_rf.fit(X_train, y_train)\n",
        "best_params_rf = grid_rf.best_params_\n",
        "print(\"Best Params for Random Forest:\", best_params_rf)\n",
        "print(\"Best R² Score (Random Forest):\", grid_rf.best_score_)\n",
        "\n",
        "# Hyperparameter Tuning for Decision Tree\n",
        "dt_reg = DecisionTreeRegressor()\n",
        "param_dist_dt = {\n",
        "    \"max_depth\": [None, 10, 20, 30],\n",
        "    \"min_samples_split\": [2, 5, 10],\n",
        "    \"min_samples_leaf\": [1, 2, 4],\n",
        "    \"ccp_alpha\": [0.0, 0.1, 0.2, 0.3],\n",
        "}\n",
        "\n",
        "grid_dt = GridSearchCV(dt_reg, param_dist_dt, cv=5, scoring=\"r2\", n_jobs=-1)\n",
        "grid_dt.fit(X_train, y_train)\n",
        "best_params_dt = grid_dt.best_params_\n",
        "print(\"Best Params for Decision Tree:\", best_params_dt)\n",
        "print(\"Best R² Score (Decision Tree):\", grid_dt.best_score_)"
      ],
      "metadata": {
        "colab": {
          "base_uri": "https://localhost:8080/"
        },
        "id": "Ir5fMJbQLWZc",
        "outputId": "e8db0cd4-1cd7-4f0f-e9c6-c718cfb0370e"
      },
      "execution_count": 101,
      "outputs": [
        {
          "output_type": "stream",
          "name": "stdout",
          "text": [
            "Best Params for Random Forest: {'max_depth': 10, 'min_samples_leaf': 1, 'min_samples_split': 10, 'n_estimators': 100}\n",
            "Best R² Score (Random Forest): 0.3991401154659435\n",
            "Best Params for Decision Tree: {'ccp_alpha': 0.2, 'max_depth': 10, 'min_samples_leaf': 4, 'min_samples_split': 10}\n",
            "Best R² Score (Decision Tree): 0.27151060108712466\n"
          ]
        }
      ]
    },
    {
      "cell_type": "markdown",
      "source": [
        "**Feature Selection**"
      ],
      "metadata": {
        "id": "p_KZRhWsQFKJ"
      }
    },
    {
      "cell_type": "code",
      "source": [
        "# Ensure X_train is a DataFrame\n",
        "if isinstance(X_train, np.ndarray):\n",
        "    X_train = pd.DataFrame(X_train, columns=df.columns[:-1])\n",
        "if isinstance(X_test, np.ndarray):\n",
        "    X_test = pd.DataFrame(X_test, columns=df.columns[:-1])\n",
        "\n",
        "# Feature selection using SelectKBest and ANOVA F-value\n",
        "selector = SelectKBest(\n",
        "    score_func=f_regression, k=2\n",
        ")  # Reduce the number of features to 2\n",
        "X_train_selected = selector.fit_transform(X_train, y_train)\n",
        "X_test_selected = selector.transform(X_test)\n",
        "\n",
        "# Get the selected feature names\n",
        "selected_feature_indices = selector.get_support(indices=True)\n",
        "selected_features = [X_train.columns[i] for i in selected_feature_indices]\n",
        "print(\"Selected Features:\", selected_features)"
      ],
      "metadata": {
        "colab": {
          "base_uri": "https://localhost:8080/"
        },
        "id": "CcjGp6mcy_Rw",
        "outputId": "c68685f4-4710-49af-9839-adad6dc68bf5"
      },
      "execution_count": 102,
      "outputs": [
        {
          "output_type": "stream",
          "name": "stdout",
          "text": [
            "Selected Features: ['NO2', 'CO']\n"
          ]
        }
      ]
    },
    {
      "cell_type": "code",
      "source": [
        "# Train Best Random Forest Model with Selected Features\n",
        "best_rf = RandomForestRegressor(**best_params_rf, random_state=42)\n",
        "best_rf.fit(X_train_selected, y_train)\n",
        "\n",
        "# Make Predictions with Random Forest\n",
        "y_pred_rf_best = best_rf.predict(X_test_selected)\n",
        "\n",
        "# Evaluate Random Forest Model\n",
        "rf_r2 = r2_score(y_test, y_pred_rf_best)\n",
        "print(f\"Random Forest R² Score: {rf_r2:.4f}\")"
      ],
      "metadata": {
        "colab": {
          "base_uri": "https://localhost:8080/"
        },
        "id": "VnN0NqEv2Cyg",
        "outputId": "31c8dbe4-272c-47d8-f879-0febd045e6ed"
      },
      "execution_count": 103,
      "outputs": [
        {
          "output_type": "stream",
          "name": "stdout",
          "text": [
            "Random Forest R² Score: 0.3517\n"
          ]
        }
      ]
    },
    {
      "cell_type": "code",
      "source": [
        "\n",
        "# Train Best Decision Tree Model with Selected Features\n",
        "best_dt = DecisionTreeRegressor(**best_params_dt, random_state=42)  # Use best_params_dt here\n",
        "best_dt.fit(X_train_selected, y_train)\n",
        "\n",
        "# Make Predictions with Decision Tree\n",
        "y_pred_dt_best = best_dt.predict(X_test_selected)\n",
        "\n",
        "# Evaluate Decision Tree Model\n",
        "dt_r2 = r2_score(y_test, y_pred_dt_best)\n",
        "print(f\"Decision Tree R² Score: {dt_r2:.4f}\")"
      ],
      "metadata": {
        "colab": {
          "base_uri": "https://localhost:8080/"
        },
        "id": "HXGm9U9X5Ab1",
        "outputId": "1d324346-7fed-49b0-b6ce-173e270b2b75"
      },
      "execution_count": 104,
      "outputs": [
        {
          "output_type": "stream",
          "name": "stdout",
          "text": [
            "Decision Tree R² Score: 0.2767\n"
          ]
        }
      ]
    },
    {
      "cell_type": "markdown",
      "source": [
        "**Final Model**"
      ],
      "metadata": {
        "id": "CHxiQqY65pkT"
      }
    },
    {
      "cell_type": "code",
      "source": [
        "\n",
        "# Compare and Select Best Model\n",
        "models = {\"Decision Tree\": dt_r2, \"Random Forest\": rf_r2}\n",
        "best_model = max(models, key=models.get)\n",
        "\n",
        "# Print Final Results\n",
        "print(f\"Decision Tree R² Score: {dt_r2:.4f}\")\n",
        "print(f\"Random Forest R² Score: {rf_r2:.4f}\")\n",
        "print(f\"Best Model: {best_model} with R² Score: {models[best_model]:.4f}\")"
      ],
      "metadata": {
        "colab": {
          "base_uri": "https://localhost:8080/"
        },
        "id": "k8DsgyI93s4B",
        "outputId": "4a4163fd-988c-4760-b86c-44156260f30f"
      },
      "execution_count": 105,
      "outputs": [
        {
          "output_type": "stream",
          "name": "stdout",
          "text": [
            "Decision Tree R² Score: 0.2767\n",
            "Random Forest R² Score: 0.3517\n",
            "Best Model: Random Forest with R² Score: 0.3517\n"
          ]
        }
      ]
    },
    {
      "cell_type": "markdown",
      "source": [
        "# Conclusion"
      ],
      "metadata": {
        "id": "D_1fyvuyW_b7"
      }
    },
    {
      "cell_type": "markdown",
      "source": [
        "- **Model Performance**\n",
        "  - Linear Regression (From Scratch): R² = 0.3750\n",
        "  - Decision Tree Regression: R² = 0.3439 (with pruning), Best R² = 0.3643 (with tuning)\n",
        "  - Random Forest Regression: R² = 0.3488, Best R² = 0.3997 (with tuning)\n",
        "  - Top Performing Model: Random Forest (Best R² = 0.3997)\n",
        "\n",
        "- **Impact of Methods**\n",
        "  - Feature Selection: Reduced the feature count from 9 to 2 (selected: NO2, CO), streamlining the model while maintaining predictive accuracy.\n",
        "  - Hyperparameter Tuning: Enhanced performance for Decision Tree and Random Forest, with the highest R² values rising after optimization.\n",
        "  - Cross-Validation (assumed used in tuning): Assisted in determining the best hyperparameters for Decision Tree and Random Forest.\n",
        "\n",
        "- **Insights and Future Directions**\n",
        "  - Insights:\n",
        "    - NO₂ and CO are the key indicators of air quality.\n",
        "    - Random Forest yielded the best results overall, but the findings indicate that incorporating more features might enhance predictions.\n",
        "  - Future Improvements:\n",
        "    - Explore additional features or create new ones.\n",
        "    - Evaluate more advanced models (e.g., Gradient Boosting, XGBoost).\n",
        "    - Expand the dataset size or refine preprocessing methods to enhance model generalization."
      ],
      "metadata": {
        "id": "L0D8WkfOY2PA"
      }
    }
  ]
}